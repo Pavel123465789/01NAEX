{
  "nbformat": 4,
  "nbformat_minor": 0,
  "metadata": {
    "colab": {
      "provenance": [],
      "authorship_tag": "ABX9TyOeWwfOTyT3emBLaCnptzRe",
      "include_colab_link": true
    },
    "kernelspec": {
      "name": "python3",
      "display_name": "Python 3"
    },
    "language_info": {
      "name": "python"
    }
  },
  "cells": [
    {
      "cell_type": "markdown",
      "metadata": {
        "id": "view-in-github",
        "colab_type": "text"
      },
      "source": [
        "<a href=\"https://colab.research.google.com/github/Pavel123465789/01NAEX/blob/main/GapStatistics.ipynb\" target=\"_parent\"><img src=\"https://colab.research.google.com/assets/colab-badge.svg\" alt=\"Open In Colab\"/></a>"
      ]
    },
    {
      "cell_type": "markdown",
      "source": [
        "**GapFinder**"
      ],
      "metadata": {
        "id": "oXRKM1v6KOU1"
      }
    },
    {
      "cell_type": "code",
      "source": [
        "runs = range(2,13)              # id fo files\n",
        "filename = 'dataFrames.zip'     # name of uploaded zip file (with data)\n",
        "path = \"/content/dataFrames/content/dataFrames/\"       # path to data\n",
        "root_name = \"E4_R_pruchod_\"     # root name of data file"
      ],
      "metadata": {
        "id": "wUOEwveGMppc"
      },
      "execution_count": 10,
      "outputs": []
    },
    {
      "cell_type": "code",
      "execution_count": 21,
      "metadata": {
        "colab": {
          "base_uri": "https://localhost:8080/"
        },
        "id": "utwf6vx9J8E7",
        "outputId": "8ec6ad48-b5f6-4f44-fb24-e02c53230e13"
      },
      "outputs": [
        {
          "output_type": "stream",
          "name": "stdout",
          "text": [
            "Looking in indexes: https://pypi.org/simple, https://us-python.pkg.dev/colab-wheels/public/simple/\n",
            "Requirement already satisfied: pandas==1.5.0 in /usr/local/lib/python3.8/dist-packages (1.5.0)\n",
            "Requirement already satisfied: python-dateutil>=2.8.1 in /usr/local/lib/python3.8/dist-packages (from pandas==1.5.0) (2.8.2)\n",
            "Requirement already satisfied: numpy>=1.20.3 in /usr/local/lib/python3.8/dist-packages (from pandas==1.5.0) (1.21.6)\n",
            "Requirement already satisfied: pytz>=2020.1 in /usr/local/lib/python3.8/dist-packages (from pandas==1.5.0) (2022.6)\n",
            "Requirement already satisfied: six>=1.5 in /usr/local/lib/python3.8/dist-packages (from python-dateutil>=2.8.1->pandas==1.5.0) (1.15.0)\n"
          ]
        }
      ],
      "source": [
        "!pip install pandas==1.5.0\n",
        "import pandas as pd\n",
        "import numpy as np\n",
        "import os\n",
        "import errno\n",
        "import zipfile\n",
        "import matplotlib.pyplot as plt"
      ]
    },
    {
      "cell_type": "code",
      "source": [
        "# data unzip\n",
        "%cd /content\n",
        "try:\n",
        "    # make folder\n",
        "    os.mkdir(f'{filename[:-4]}')\n",
        "    localfile = filename\n",
        "    # extract files from the zip into the made folder\n",
        "    with zipfile.ZipFile(localfile) as zip_ref:\n",
        "        zip_ref.extractall(filename[:-4])        \n",
        "except OSError as e:\n",
        "    # if error occurred\n",
        "    if e.errno != errno.EEXIST:\n",
        "        raise\n",
        "    else:\n",
        "        print(f'{filename[:-4]} folder already exists!')\n",
        "     "
      ],
      "metadata": {
        "colab": {
          "base_uri": "https://localhost:8080/"
        },
        "id": "AqkevL74KmiZ",
        "outputId": "9e9f5528-e320-44ea-f1b4-88766063a5d4"
      },
      "execution_count": 6,
      "outputs": [
        {
          "output_type": "stream",
          "name": "stdout",
          "text": [
            "/content\n"
          ]
        }
      ]
    },
    {
      "cell_type": "code",
      "source": [
        "\n",
        "df  = pd.read_pickle(path + root_name + str(2) + \".pkl\")\n",
        "# drop columns of \"id_run\" and \"id_ped\"\n",
        "df.drop(df.columns[[0,1]], axis=1, inplace=True)\n",
        "gaps = []\n",
        "for index, row in df.iterrows():\n",
        "  frames_notnull = row.index[row.notnull()]\n",
        "  frames_notnull = list(map( lambda x: int(x[:-2]), frames_notnull))\n",
        "  frames_notnull = frames_notnull[::2]\n",
        "  diff = np.diff(np.array(frames_notnull))\n",
        "  gaps.extend(diff)\n",
        "plt.hist(gaps, bins = np.arange(max(gaps)+4)-0.5, density=True)\n",
        "print(pd.DataFrame(gaps).describe())\n"
      ],
      "metadata": {
        "colab": {
          "base_uri": "https://localhost:8080/",
          "height": 421
        },
        "id": "qpaxfI1MMl9O",
        "outputId": "14d1c060-b59f-4970-8b7f-9c388d1a9011"
      },
      "execution_count": 32,
      "outputs": [
        {
          "output_type": "stream",
          "name": "stdout",
          "text": [
            "                  0\n",
            "count  25419.000000\n",
            "mean       1.000236\n",
            "std        0.026610\n",
            "min        1.000000\n",
            "25%        1.000000\n",
            "50%        1.000000\n",
            "75%        1.000000\n",
            "max        4.000000\n"
          ]
        },
        {
          "output_type": "display_data",
          "data": {
            "text/plain": [
              "<Figure size 432x288 with 1 Axes>"
            ],
            "image/png": "[encoded data removed]"
          },
          "metadata": {
            "needs_background": "light"
          }
        }
      ]
    }
  ]
}