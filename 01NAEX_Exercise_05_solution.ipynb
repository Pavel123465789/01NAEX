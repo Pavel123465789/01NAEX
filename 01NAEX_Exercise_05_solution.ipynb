{
  "nbformat": 4,
  "nbformat_minor": 0,
  "metadata": {
    "colab": {
      "private_outputs": true,
      "provenance": [],
      "collapsed_sections": [],
      "include_colab_link": true
    },
    "kernelspec": {
      "name": "ir",
      "display_name": "R"
    },
    "language_info": {
      "name": "R"
    }
  },
  "cells": [
    {
      "cell_type": "markdown",
      "metadata": {
        "id": "view-in-github",
        "colab_type": "text"
      },
      "source": [
        "<a href=\"https://colab.research.google.com/github/Pavel123465789/01NAEX/blob/main/01NAEX_Exercise_05_solution.ipynb\" target=\"_parent\"><img src=\"https://colab.research.google.com/assets/colab-badge.svg\" alt=\"Open In Colab\"/></a>"
      ]
    },
    {
      "cell_type": "markdown",
      "source": [
        "\t\n",
        "# O1NAEX Exercise 05"
      ],
      "metadata": {
        "id": "SJRUeUJPrezp"
      }
    },
    {
      "cell_type": "code",
      "source": [
        "cat(system('sudo apt-get install -y gmp', intern=TRUE), sep = \"\\n\")\n",
        "cat(system('sudo apt-get install -y partitions', intern=TRUE), sep = \"\\n\")\n",
        "cat(system('sudo apt-get install -y DoE.base', intern=TRUE), sep = \"\\n\")\n",
        "\n",
        "list_of_packages <- c(\"tidyverse\",\"MASS\",\"FrF2\", \"rsm\", \"margins\") # \"agricolae\",\"nortest\",\"lattice\",\"pwr\",\n",
        "missing_packages <- list_of_packages[!(list_of_packages %in% installed.packages()[,\"Package\"])]\n",
        "missing_packages\n",
        "if(length(missing_packages)) install.packages(missing_packages)\n",
        "lapply(list_of_packages, library, character.only = TRUE)\n"
      ],
      "metadata": {
        "id": "crbwkzr9I90A"
      },
      "execution_count": null,
      "outputs": []
    },
    {
      "cell_type": "code",
      "source": [
        "tibble::tibble(\n",
        "  Package = names(installed.packages()[,3]),\n",
        "  Version = unname(installed.packages()[,3])\n",
        ")"
      ],
      "metadata": {
        "id": "mFJEGP4iPatd"
      },
      "execution_count": null,
      "outputs": []
    },
    {
      "cell_type": "markdown",
      "source": [
        "##\tProblem 6.1\n",
        "from the chapter 6, D. C. Montgomery DAoE - 8. edition.\n",
        "\t\n",
        "An engineer is interested in the effects of cutting\n",
        "speed (A), tool geometry (B), and cutting angle (C) on the life\n",
        "(in hours) of a machine tool. Two levels of each factor are\n",
        "chosen, and three replicates of a 23 factorial design are run.\n",
        "The results are as follows:"
      ],
      "metadata": {
        "id": "_lYQT0wrrb3V"
      }
    },
    {
      "cell_type": "code",
      "source": [
        "df61 <- read.table(\"https://raw.githubusercontent.com/francji1/01NAEX/main/data/Problem_6_1.txt\",header=TRUE,sep=\";\")\n",
        "head(df61)"
      ],
      "metadata": {
        "id": "DfQaZt8HzOXa"
      },
      "execution_count": null,
      "outputs": []
    },
    {
      "cell_type": "markdown",
      "source": [
        "\n",
        "1. Estimate the factor effects. Which effects appear to be\n",
        "large?\n",
        "2. Use the analysis of variance to confirm your conclusions\n",
        "for part (a).\n",
        "3. Write down a regression model for predicting tool life\n",
        "(in hours) based on the results of this experiment.\n",
        "4. Analyze the residuals. Are there any obvious problems?\n",
        "5. On the basis of an analysis of main effect and interaction\n",
        "plots, what coded factor levels of A, B, and C\n",
        "would you recommend using?\n",
        "6. Reconsider task 3. Use the regression\n",
        "model to generate response surface and contour plots of the\n",
        "tool life response. Interpret these plots. Do they provide insight\n",
        "regarding the desirable operating conditions for this process?\n",
        "7. Find the standard error of the factor effects and\n",
        "approximate 95 percent confidence limits for the factor effects. Do the results of this analysis agree with the conclusions from the analysis of variance?\n",
        "\n"
      ],
      "metadata": {
        "id": "dbEJmeh3zNWJ"
      }
    },
    {
      "cell_type": "markdown",
      "source": [
        "### **1. Estimate the factor effects. Which effects appear to be large?**"
      ],
      "metadata": {
        "id": "J31IyI2D2fN4"
      }
    },
    {
      "cell_type": "markdown",
      "source": [
        "From cube plot the \"ToolGeometry\" seems to have the largest effect."
      ],
      "metadata": {
        "id": "mFd_y8Fe76-1"
      }
    },
    {
      "cell_type": "code",
      "source": [
        "model_allInter <- lm(LifeHours ~ CuttingSpeed*ToolGeometry*CuttingAngle, data = df61)\n",
        "cubePlot(model_allInter, eff1 = \"CuttingSpeed\", eff2 = \"ToolGeometry\", eff3 = \"CuttingAngle\", round=1)"
      ],
      "metadata": {
        "id": "fxD9HMoPrbHg"
      },
      "execution_count": null,
      "outputs": []
    },
    {
      "cell_type": "markdown",
      "source": [
        "### **2. Use the analysis of variance to confirm your conclusions for part (a).**"
      ],
      "metadata": {
        "id": "wf6fD32Y5uk3"
      }
    },
    {
      "cell_type": "markdown",
      "source": [
        "Sum of Squares is largest for variable \"ToolGeometry\" (SS = 770.7). The second largest SS is for interaction \"CuttingSpeed:CuttingAngle\" (SS=468.2)."
      ],
      "metadata": {
        "id": "6NjX2tsy9JJP"
      }
    },
    {
      "cell_type": "code",
      "source": [
        "summary(yield.aov1 <- aov(model_allInter))"
      ],
      "metadata": {
        "id": "Wvnt-SXc70pE"
      },
      "execution_count": null,
      "outputs": []
    },
    {
      "cell_type": "markdown",
      "source": [
        "### **3. Write down a regression model for predicting tool life (in hours) based on the results of this experiment.**"
      ],
      "metadata": {
        "id": "s5BsUt475y4p"
      }
    },
    {
      "cell_type": "markdown",
      "source": [
        "From previous model I remove all unsignificant variable."
      ],
      "metadata": {
        "id": "KSszwdf597CQ"
      }
    },
    {
      "cell_type": "code",
      "source": [
        "model_new <- lm(LifeHours ~ ToolGeometry + CuttingAngle + CuttingSpeed:CuttingAngle, data = df61  )\n",
        "summary(model_new)"
      ],
      "metadata": {
        "id": "e7Qy1tbz-DPY"
      },
      "execution_count": null,
      "outputs": []
    },
    {
      "cell_type": "markdown",
      "source": [
        "Anova summary of new model:"
      ],
      "metadata": {
        "id": "UyvruAIHG1OM"
      }
    },
    {
      "cell_type": "code",
      "source": [
        "summary(yield.aov1 <- aov(model_new))"
      ],
      "metadata": {
        "id": "AekpJ3fdG0jf"
      },
      "execution_count": null,
      "outputs": []
    },
    {
      "cell_type": "markdown",
      "source": [
        "I made ANOVA test to compere these two models. There is no significant difference between these two models (p value = 0.557)."
      ],
      "metadata": {
        "id": "P4Mra0Li-gBD"
      }
    },
    {
      "cell_type": "code",
      "source": [
        "anova(model_new, model_allInter)"
      ],
      "metadata": {
        "id": "oevn6Atg-w_V"
      },
      "execution_count": null,
      "outputs": []
    },
    {
      "cell_type": "markdown",
      "source": [
        "### **4. Analyze the residuals. Are there any obvious problems?**"
      ],
      "metadata": {
        "id": "0BNWAwsV534E"
      }
    },
    {
      "cell_type": "markdown",
      "source": [
        "I would say residuals are OK. I do not see any significant problem. "
      ],
      "metadata": {
        "id": "ElVuIJx7Bj2h"
      }
    },
    {
      "cell_type": "code",
      "source": [
        "plot(model_new)"
      ],
      "metadata": {
        "id": "KoEq1nYpBGxz"
      },
      "execution_count": null,
      "outputs": []
    },
    {
      "cell_type": "markdown",
      "source": [
        "### **5. On the basis of an analysis of main effect and interaction plots, what coded factor levels of A, B, and C would you recommend using?**"
      ],
      "metadata": {
        "id": "0UXOmM5656rF"
      }
    },
    {
      "cell_type": "markdown",
      "source": [
        "Recap the summary of final model:"
      ],
      "metadata": {
        "id": "6BrKtHSeHWxu"
      }
    },
    {
      "cell_type": "code",
      "source": [
        "summary(model_new)"
      ],
      "metadata": {
        "id": "ccovQSJHHDKY"
      },
      "execution_count": null,
      "outputs": []
    },
    {
      "cell_type": "markdown",
      "source": [
        "Interaction plot: "
      ],
      "metadata": {
        "id": "Q0ip5TgRHb1t"
      }
    },
    {
      "cell_type": "code",
      "source": [
        "interaction.plot(x.factor = df61$CuttingAngle, #x-axis variable\n",
        "                 trace.factor = df61$CuttingSpeed, #variable for lines\n",
        "                 response = df61$LifeHours, #y-axis variable\n",
        "                 fun = mean, #metric to plot\n",
        "                 ylab = \"LifeHours\",\n",
        "                 xlab = \"CuttingAngle\",\n",
        "                 type = \"b\",\n",
        "                 col = c(\"red\", \"blue\"),\n",
        "                 lwd = 2, #line width\n",
        "                 trace.label = \"CuttingSpeed\",)"
      ],
      "metadata": {
        "id": "9Pt1I6v-EK08"
      },
      "execution_count": null,
      "outputs": []
    },
    {
      "cell_type": "markdown",
      "source": [
        "I would choose:\n",
        "*   ToolGeometry = 1... Since ToolGemeotry have positive coefficient in the model\n",
        "*   CuttingSpeed = -1... Because of interaction plot.\n",
        "*   CuttingAngle = 1... Because of interaction plot.\n"
      ],
      "metadata": {
        "id": "PxTKp9B-Hhpy"
      }
    },
    {
      "cell_type": "markdown",
      "source": [
        "The same interaction plot but swapped x-axis and legend."
      ],
      "metadata": {
        "id": "fZZ6UKTUJYOM"
      }
    },
    {
      "cell_type": "code",
      "source": [
        "interaction.plot(x.factor = df61$CuttingSpeed, #x-axis variable\n",
        "                 trace.factor = df61$CuttingAngle, #variable for lines\n",
        "                 response = df61$LifeHours, #y-axis variable\n",
        "                 fun = mean, #metric to plot\n",
        "                 ylab = \"LifeHours\",\n",
        "                 xlab = \"CuttingSpeed\",\n",
        "                 type = \"b\",\n",
        "                 col = c(\"red\", \"blue\"),\n",
        "                 lwd = 2, #line width\n",
        "                 trace.label = \"CuttingAngle\",)"
      ],
      "metadata": {
        "id": "twg1nHpHI2zO"
      },
      "execution_count": null,
      "outputs": []
    },
    {
      "cell_type": "markdown",
      "source": [
        "### **6. Reconsider task 3. Use the regression model to generate response surface and contour plots of the tool life response. Interpret these plots. Do they provide insight regarding the desirable operating conditions for this process?**"
      ],
      "metadata": {
        "id": "2hsG5Pj359V9"
      }
    },
    {
      "cell_type": "markdown",
      "source": [
        "I would say yes - these plots provide good inside for this process and its desirable operating condition."
      ],
      "metadata": {
        "id": "CBamWDYRl2DR"
      }
    },
    {
      "cell_type": "code",
      "source": [
        "par(mfrow = c(2,2)) \n",
        "contour(model_new, ~ ToolGeometry + CuttingAngle + CuttingSpeed, image = TRUE)"
      ],
      "metadata": {
        "id": "SDtli0j1Kt7a"
      },
      "execution_count": null,
      "outputs": []
    },
    {
      "cell_type": "markdown",
      "source": [
        "The surface plots are for given x and y axis plotted at angles 45, 135, 225 and 315 degrees.\n",
        "\n"
      ],
      "metadata": {
        "id": "x9dMs8nRmNeR"
      }
    },
    {
      "cell_type": "markdown",
      "source": [
        "\"ToolGeometry\" and \"CuttingAngle\":"
      ],
      "metadata": {
        "id": "dTfNQuPfmgwO"
      }
    },
    {
      "cell_type": "code",
      "source": [
        " contour(model_new, ~ ToolGeometry + CuttingAngle, image = TRUE)\n",
        "persp(model_new, xvar = \"ToolGeometry\", yvar = \"CuttingAngle\", theta = c(45, 135, 225, 315))"
      ],
      "metadata": {
        "id": "Leu2cv39Q1Xb"
      },
      "execution_count": null,
      "outputs": []
    },
    {
      "cell_type": "markdown",
      "source": [
        "\"CuttingSpeed\" and \"CuttingAngle\":"
      ],
      "metadata": {
        "id": "SvtMnbxYmo-O"
      }
    },
    {
      "cell_type": "code",
      "source": [
        "contour(model_new, ~ CuttingAngle + CuttingSpeed, image = TRUE)\n",
        "persp(model_new, xvar = \"CuttingSpeed\", yvar = \"CuttingAngle\", theta = c(45, 135, 225, 315))"
      ],
      "metadata": {
        "id": "KJxQ1Nb7mwGQ"
      },
      "execution_count": null,
      "outputs": []
    },
    {
      "cell_type": "markdown",
      "source": [
        "\"ToolGeometry\" and \"CuttingSpeed\":"
      ],
      "metadata": {
        "id": "NvmX-ek9msa8"
      }
    },
    {
      "cell_type": "code",
      "source": [
        "contour(model_new, ~ ToolGeometry + CuttingSpeed, image = TRUE)\n",
        "persp(model_new, xvar = \"ToolGeometry\", yvar = \"CuttingSpeed\", theta = c(45, 135, 225, 315))"
      ],
      "metadata": {
        "id": "yjbEGrKkmygp"
      },
      "execution_count": null,
      "outputs": []
    },
    {
      "cell_type": "markdown",
      "source": [
        "### **7. Find the standard error of the factor effects and approximate 95 percent confidence limits for the factor effects. Do the results of this analysis agree with the conclusions from the analysis of variance?**"
      ],
      "metadata": {
        "id": "xElWhdmB6ADv"
      }
    },
    {
      "cell_type": "markdown",
      "source": [
        "ANOVA:"
      ],
      "metadata": {
        "id": "PFnrPnunvwe7"
      }
    },
    {
      "cell_type": "code",
      "source": [
        "summary(model_new)"
      ],
      "metadata": {
        "id": "FuQ1rjLgvxaG"
      },
      "execution_count": null,
      "outputs": []
    },
    {
      "cell_type": "markdown",
      "source": [
        "Standard error:"
      ],
      "metadata": {
        "id": "WCpS08TCs_RW"
      }
    },
    {
      "cell_type": "code",
      "source": [
        "stdError <- summary(model_new)$coef[,1]\n",
        "print(stdError)"
      ],
      "metadata": {
        "id": "nPkscUdor0m-"
      },
      "execution_count": null,
      "outputs": []
    },
    {
      "cell_type": "markdown",
      "source": [
        "95 percent confidence interval:"
      ],
      "metadata": {
        "id": "blD03fkTtCeI"
      }
    },
    {
      "cell_type": "code",
      "source": [
        "confint(model_new)"
      ],
      "metadata": {
        "id": "pE5TJpklrbPN"
      },
      "execution_count": null,
      "outputs": []
    }
  ]
}