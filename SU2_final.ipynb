{
  "nbformat": 4,
  "nbformat_minor": 0,
  "metadata": {
    "colab": {
      "provenance": [],
      "include_colab_link": true
    },
    "kernelspec": {
      "name": "python3",
      "display_name": "Python 3"
    },
    "language_info": {
      "name": "python"
    },
    "widgets": {
      "application/vnd.jupyter.widget-state+json": {
        "3ae513402a364fc3afbaf9b72d6c2028": {
          "model_module": "@jupyter-widgets/controls",
          "model_name": "HBoxModel",
          "model_module_version": "1.5.0",
          "state": {
            "_dom_classes": [],
            "_model_module": "@jupyter-widgets/controls",
            "_model_module_version": "1.5.0",
            "_model_name": "HBoxModel",
            "_view_count": null,
            "_view_module": "@jupyter-widgets/controls",
            "_view_module_version": "1.5.0",
            "_view_name": "HBoxView",
            "box_style": "",
            "children": [
              "IPY_MODEL_3b0c6ba12c8b497e8b3a0f31704a7c49",
              "IPY_MODEL_0bea0a4a9d4241498ba957d3c8c103b2",
              "IPY_MODEL_135dfef9696a40cdaa5acf5ca5ca91a4"
            ],
            "layout": "IPY_MODEL_f41e791938c846269b8139f7ac2fccf6"
          }
        },
        "3b0c6ba12c8b497e8b3a0f31704a7c49": {
          "model_module": "@jupyter-widgets/controls",
          "model_name": "HTMLModel",
          "model_module_version": "1.5.0",
          "state": {
            "_dom_classes": [],
            "_model_module": "@jupyter-widgets/controls",
            "_model_module_version": "1.5.0",
            "_model_name": "HTMLModel",
            "_view_count": null,
            "_view_module": "@jupyter-widgets/controls",
            "_view_module_version": "1.5.0",
            "_view_name": "HTMLView",
            "description": "",
            "description_tooltip": null,
            "layout": "IPY_MODEL_c5d74886ba5245c193ca053a1f612110",
            "placeholder": "​",
            "style": "IPY_MODEL_2a3458b5b18648209d0c27963a5b9da2",
            "value": "100%"
          }
        },
        "0bea0a4a9d4241498ba957d3c8c103b2": {
          "model_module": "@jupyter-widgets/controls",
          "model_name": "FloatProgressModel",
          "model_module_version": "1.5.0",
          "state": {
            "_dom_classes": [],
            "_model_module": "@jupyter-widgets/controls",
            "_model_module_version": "1.5.0",
            "_model_name": "FloatProgressModel",
            "_view_count": null,
            "_view_module": "@jupyter-widgets/controls",
            "_view_module_version": "1.5.0",
            "_view_name": "ProgressView",
            "bar_style": "success",
            "description": "",
            "description_tooltip": null,
            "layout": "IPY_MODEL_e7e6ed92a4d149be927a357a58cc1a21",
            "max": 244408911,
            "min": 0,
            "orientation": "horizontal",
            "style": "IPY_MODEL_5a689b90d43249c68304c85bf5849b77",
            "value": 244408911
          }
        },
        "135dfef9696a40cdaa5acf5ca5ca91a4": {
          "model_module": "@jupyter-widgets/controls",
          "model_name": "HTMLModel",
          "model_module_version": "1.5.0",
          "state": {
            "_dom_classes": [],
            "_model_module": "@jupyter-widgets/controls",
            "_model_module_version": "1.5.0",
            "_model_name": "HTMLModel",
            "_view_count": null,
            "_view_module": "@jupyter-widgets/controls",
            "_view_module_version": "1.5.0",
            "_view_name": "HTMLView",
            "description": "",
            "description_tooltip": null,
            "layout": "IPY_MODEL_af8a576fe39c4cfe9b6b4a562d28a3a0",
            "placeholder": "​",
            "style": "IPY_MODEL_623ce0023c80489583e972eff134d239",
            "value": " 233M/233M [00:04&lt;00:00, 86.4MB/s]"
          }
        },
        "f41e791938c846269b8139f7ac2fccf6": {
          "model_module": "@jupyter-widgets/base",
          "model_name": "LayoutModel",
          "model_module_version": "1.2.0",
          "state": {
            "_model_module": "@jupyter-widgets/base",
            "_model_module_version": "1.2.0",
            "_model_name": "LayoutModel",
            "_view_count": null,
            "_view_module": "@jupyter-widgets/base",
            "_view_module_version": "1.2.0",
            "_view_name": "LayoutView",
            "align_content": null,
            "align_items": null,
            "align_self": null,
            "border": null,
            "bottom": null,
            "display": null,
            "flex": null,
            "flex_flow": null,
            "grid_area": null,
            "grid_auto_columns": null,
            "grid_auto_flow": null,
            "grid_auto_rows": null,
            "grid_column": null,
            "grid_gap": null,
            "grid_row": null,
            "grid_template_areas": null,
            "grid_template_columns": null,
            "grid_template_rows": null,
            "height": null,
            "justify_content": null,
            "justify_items": null,
            "left": null,
            "margin": null,
            "max_height": null,
            "max_width": null,
            "min_height": null,
            "min_width": null,
            "object_fit": null,
            "object_position": null,
            "order": null,
            "overflow": null,
            "overflow_x": null,
            "overflow_y": null,
            "padding": null,
            "right": null,
            "top": null,
            "visibility": null,
            "width": null
          }
        },
        "c5d74886ba5245c193ca053a1f612110": {
          "model_module": "@jupyter-widgets/base",
          "model_name": "LayoutModel",
          "model_module_version": "1.2.0",
          "state": {
            "_model_module": "@jupyter-widgets/base",
            "_model_module_version": "1.2.0",
            "_model_name": "LayoutModel",
            "_view_count": null,
            "_view_module": "@jupyter-widgets/base",
            "_view_module_version": "1.2.0",
            "_view_name": "LayoutView",
            "align_content": null,
            "align_items": null,
            "align_self": null,
            "border": null,
            "bottom": null,
            "display": null,
            "flex": null,
            "flex_flow": null,
            "grid_area": null,
            "grid_auto_columns": null,
            "grid_auto_flow": null,
            "grid_auto_rows": null,
            "grid_column": null,
            "grid_gap": null,
            "grid_row": null,
            "grid_template_areas": null,
            "grid_template_columns": null,
            "grid_template_rows": null,
            "height": null,
            "justify_content": null,
            "justify_items": null,
            "left": null,
            "margin": null,
            "max_height": null,
            "max_width": null,
            "min_height": null,
            "min_width": null,
            "object_fit": null,
            "object_position": null,
            "order": null,
            "overflow": null,
            "overflow_x": null,
            "overflow_y": null,
            "padding": null,
            "right": null,
            "top": null,
            "visibility": null,
            "width": null
          }
        },
        "2a3458b5b18648209d0c27963a5b9da2": {
          "model_module": "@jupyter-widgets/controls",
          "model_name": "DescriptionStyleModel",
          "model_module_version": "1.5.0",
          "state": {
            "_model_module": "@jupyter-widgets/controls",
            "_model_module_version": "1.5.0",
            "_model_name": "DescriptionStyleModel",
            "_view_count": null,
            "_view_module": "@jupyter-widgets/base",
            "_view_module_version": "1.2.0",
            "_view_name": "StyleView",
            "description_width": ""
          }
        },
        "e7e6ed92a4d149be927a357a58cc1a21": {
          "model_module": "@jupyter-widgets/base",
          "model_name": "LayoutModel",
          "model_module_version": "1.2.0",
          "state": {
            "_model_module": "@jupyter-widgets/base",
            "_model_module_version": "1.2.0",
            "_model_name": "LayoutModel",
            "_view_count": null,
            "_view_module": "@jupyter-widgets/base",
            "_view_module_version": "1.2.0",
            "_view_name": "LayoutView",
            "align_content": null,
            "align_items": null,
            "align_self": null,
            "border": null,
            "bottom": null,
            "display": null,
            "flex": null,
            "flex_flow": null,
            "grid_area": null,
            "grid_auto_columns": null,
            "grid_auto_flow": null,
            "grid_auto_rows": null,
            "grid_column": null,
            "grid_gap": null,
            "grid_row": null,
            "grid_template_areas": null,
            "grid_template_columns": null,
            "grid_template_rows": null,
            "height": null,
            "justify_content": null,
            "justify_items": null,
            "left": null,
            "margin": null,
            "max_height": null,
            "max_width": null,
            "min_height": null,
            "min_width": null,
            "object_fit": null,
            "object_position": null,
            "order": null,
            "overflow": null,
            "overflow_x": null,
            "overflow_y": null,
            "padding": null,
            "right": null,
            "top": null,
            "visibility": null,
            "width": null
          }
        },
        "5a689b90d43249c68304c85bf5849b77": {
          "model_module": "@jupyter-widgets/controls",
          "model_name": "ProgressStyleModel",
          "model_module_version": "1.5.0",
          "state": {
            "_model_module": "@jupyter-widgets/controls",
            "_model_module_version": "1.5.0",
            "_model_name": "ProgressStyleModel",
            "_view_count": null,
            "_view_module": "@jupyter-widgets/base",
            "_view_module_version": "1.2.0",
            "_view_name": "StyleView",
            "bar_color": null,
            "description_width": ""
          }
        },
        "af8a576fe39c4cfe9b6b4a562d28a3a0": {
          "model_module": "@jupyter-widgets/base",
          "model_name": "LayoutModel",
          "model_module_version": "1.2.0",
          "state": {
            "_model_module": "@jupyter-widgets/base",
            "_model_module_version": "1.2.0",
            "_model_name": "LayoutModel",
            "_view_count": null,
            "_view_module": "@jupyter-widgets/base",
            "_view_module_version": "1.2.0",
            "_view_name": "LayoutView",
            "align_content": null,
            "align_items": null,
            "align_self": null,
            "border": null,
            "bottom": null,
            "display": null,
            "flex": null,
            "flex_flow": null,
            "grid_area": null,
            "grid_auto_columns": null,
            "grid_auto_flow": null,
            "grid_auto_rows": null,
            "grid_column": null,
            "grid_gap": null,
            "grid_row": null,
            "grid_template_areas": null,
            "grid_template_columns": null,
            "grid_template_rows": null,
            "height": null,
            "justify_content": null,
            "justify_items": null,
            "left": null,
            "margin": null,
            "max_height": null,
            "max_width": null,
            "min_height": null,
            "min_width": null,
            "object_fit": null,
            "object_position": null,
            "order": null,
            "overflow": null,
            "overflow_x": null,
            "overflow_y": null,
            "padding": null,
            "right": null,
            "top": null,
            "visibility": null,
            "width": null
          }
        },
        "623ce0023c80489583e972eff134d239": {
          "model_module": "@jupyter-widgets/controls",
          "model_name": "DescriptionStyleModel",
          "model_module_version": "1.5.0",
          "state": {
            "_model_module": "@jupyter-widgets/controls",
            "_model_module_version": "1.5.0",
            "_model_name": "DescriptionStyleModel",
            "_view_count": null,
            "_view_module": "@jupyter-widgets/base",
            "_view_module_version": "1.2.0",
            "_view_name": "StyleView",
            "description_width": ""
          }
        },
        "7d52bf4d7f7e438ab37702807f3cb115": {
          "model_module": "@jupyter-widgets/controls",
          "model_name": "HBoxModel",
          "model_module_version": "1.5.0",
          "state": {
            "_dom_classes": [],
            "_model_module": "@jupyter-widgets/controls",
            "_model_module_version": "1.5.0",
            "_model_name": "HBoxModel",
            "_view_count": null,
            "_view_module": "@jupyter-widgets/controls",
            "_view_module_version": "1.5.0",
            "_view_name": "HBoxView",
            "box_style": "",
            "children": [
              "IPY_MODEL_4df5c780ef144a229cbe7bf66538b030",
              "IPY_MODEL_b0cb918e838c4bf98d57c2b6420bae7b",
              "IPY_MODEL_4809609075b840beab0813325af4c1ad"
            ],
            "layout": "IPY_MODEL_2a824042897648bfa4130a8d2cd56e1f"
          }
        },
        "4df5c780ef144a229cbe7bf66538b030": {
          "model_module": "@jupyter-widgets/controls",
          "model_name": "HTMLModel",
          "model_module_version": "1.5.0",
          "state": {
            "_dom_classes": [],
            "_model_module": "@jupyter-widgets/controls",
            "_model_module_version": "1.5.0",
            "_model_name": "HTMLModel",
            "_view_count": null,
            "_view_module": "@jupyter-widgets/controls",
            "_view_module_version": "1.5.0",
            "_view_name": "HTMLView",
            "description": "",
            "description_tooltip": null,
            "layout": "IPY_MODEL_9bf170a1268f46609b09c5400799e943",
            "placeholder": "​",
            "style": "IPY_MODEL_0e927d247cf54313be3be7563172e8a7",
            "value": "100%"
          }
        },
        "b0cb918e838c4bf98d57c2b6420bae7b": {
          "model_module": "@jupyter-widgets/controls",
          "model_name": "FloatProgressModel",
          "model_module_version": "1.5.0",
          "state": {
            "_dom_classes": [],
            "_model_module": "@jupyter-widgets/controls",
            "_model_module_version": "1.5.0",
            "_model_name": "FloatProgressModel",
            "_view_count": null,
            "_view_module": "@jupyter-widgets/controls",
            "_view_module_version": "1.5.0",
            "_view_name": "ProgressView",
            "bar_style": "success",
            "description": "",
            "description_tooltip": null,
            "layout": "IPY_MODEL_e0f0d0f8182742a2a0065e1aa374769e",
            "max": 574769405,
            "min": 0,
            "orientation": "horizontal",
            "style": "IPY_MODEL_4458381bcc344cdaaed3abdfbe3ba93b",
            "value": 574769405
          }
        },
        "4809609075b840beab0813325af4c1ad": {
          "model_module": "@jupyter-widgets/controls",
          "model_name": "HTMLModel",
          "model_module_version": "1.5.0",
          "state": {
            "_dom_classes": [],
            "_model_module": "@jupyter-widgets/controls",
            "_model_module_version": "1.5.0",
            "_model_name": "HTMLModel",
            "_view_count": null,
            "_view_module": "@jupyter-widgets/controls",
            "_view_module_version": "1.5.0",
            "_view_name": "HTMLView",
            "description": "",
            "description_tooltip": null,
            "layout": "IPY_MODEL_53dfeb0388d84696b0513c56dc3e6ac3",
            "placeholder": "​",
            "style": "IPY_MODEL_092cda5d12704c9e858d58e9d13ff0c1",
            "value": " 548M/548M [00:06&lt;00:00, 86.1MB/s]"
          }
        },
        "2a824042897648bfa4130a8d2cd56e1f": {
          "model_module": "@jupyter-widgets/base",
          "model_name": "LayoutModel",
          "model_module_version": "1.2.0",
          "state": {
            "_model_module": "@jupyter-widgets/base",
            "_model_module_version": "1.2.0",
            "_model_name": "LayoutModel",
            "_view_count": null,
            "_view_module": "@jupyter-widgets/base",
            "_view_module_version": "1.2.0",
            "_view_name": "LayoutView",
            "align_content": null,
            "align_items": null,
            "align_self": null,
            "border": null,
            "bottom": null,
            "display": null,
            "flex": null,
            "flex_flow": null,
            "grid_area": null,
            "grid_auto_columns": null,
            "grid_auto_flow": null,
            "grid_auto_rows": null,
            "grid_column": null,
            "grid_gap": null,
            "grid_row": null,
            "grid_template_areas": null,
            "grid_template_columns": null,
            "grid_template_rows": null,
            "height": null,
            "justify_content": null,
            "justify_items": null,
            "left": null,
            "margin": null,
            "max_height": null,
            "max_width": null,
            "min_height": null,
            "min_width": null,
            "object_fit": null,
            "object_position": null,
            "order": null,
            "overflow": null,
            "overflow_x": null,
            "overflow_y": null,
            "padding": null,
            "right": null,
            "top": null,
            "visibility": null,
            "width": null
          }
        },
        "9bf170a1268f46609b09c5400799e943": {
          "model_module": "@jupyter-widgets/base",
          "model_name": "LayoutModel",
          "model_module_version": "1.2.0",
          "state": {
            "_model_module": "@jupyter-widgets/base",
            "_model_module_version": "1.2.0",
            "_model_name": "LayoutModel",
            "_view_count": null,
            "_view_module": "@jupyter-widgets/base",
            "_view_module_version": "1.2.0",
            "_view_name": "LayoutView",
            "align_content": null,
            "align_items": null,
            "align_self": null,
            "border": null,
            "bottom": null,
            "display": null,
            "flex": null,
            "flex_flow": null,
            "grid_area": null,
            "grid_auto_columns": null,
            "grid_auto_flow": null,
            "grid_auto_rows": null,
            "grid_column": null,
            "grid_gap": null,
            "grid_row": null,
            "grid_template_areas": null,
            "grid_template_columns": null,
            "grid_template_rows": null,
            "height": null,
            "justify_content": null,
            "justify_items": null,
            "left": null,
            "margin": null,
            "max_height": null,
            "max_width": null,
            "min_height": null,
            "min_width": null,
            "object_fit": null,
            "object_position": null,
            "order": null,
            "overflow": null,
            "overflow_x": null,
            "overflow_y": null,
            "padding": null,
            "right": null,
            "top": null,
            "visibility": null,
            "width": null
          }
        },
        "0e927d247cf54313be3be7563172e8a7": {
          "model_module": "@jupyter-widgets/controls",
          "model_name": "DescriptionStyleModel",
          "model_module_version": "1.5.0",
          "state": {
            "_model_module": "@jupyter-widgets/controls",
            "_model_module_version": "1.5.0",
            "_model_name": "DescriptionStyleModel",
            "_view_count": null,
            "_view_module": "@jupyter-widgets/base",
            "_view_module_version": "1.2.0",
            "_view_name": "StyleView",
            "description_width": ""
          }
        },
        "e0f0d0f8182742a2a0065e1aa374769e": {
          "model_module": "@jupyter-widgets/base",
          "model_name": "LayoutModel",
          "model_module_version": "1.2.0",
          "state": {
            "_model_module": "@jupyter-widgets/base",
            "_model_module_version": "1.2.0",
            "_model_name": "LayoutModel",
            "_view_count": null,
            "_view_module": "@jupyter-widgets/base",
            "_view_module_version": "1.2.0",
            "_view_name": "LayoutView",
            "align_content": null,
            "align_items": null,
            "align_self": null,
            "border": null,
            "bottom": null,
            "display": null,
            "flex": null,
            "flex_flow": null,
            "grid_area": null,
            "grid_auto_columns": null,
            "grid_auto_flow": null,
            "grid_auto_rows": null,
            "grid_column": null,
            "grid_gap": null,
            "grid_row": null,
            "grid_template_areas": null,
            "grid_template_columns": null,
            "grid_template_rows": null,
            "height": null,
            "justify_content": null,
            "justify_items": null,
            "left": null,
            "margin": null,
            "max_height": null,
            "max_width": null,
            "min_height": null,
            "min_width": null,
            "object_fit": null,
            "object_position": null,
            "order": null,
            "overflow": null,
            "overflow_x": null,
            "overflow_y": null,
            "padding": null,
            "right": null,
            "top": null,
            "visibility": null,
            "width": null
          }
        },
        "4458381bcc344cdaaed3abdfbe3ba93b": {
          "model_module": "@jupyter-widgets/controls",
          "model_name": "ProgressStyleModel",
          "model_module_version": "1.5.0",
          "state": {
            "_model_module": "@jupyter-widgets/controls",
            "_model_module_version": "1.5.0",
            "_model_name": "ProgressStyleModel",
            "_view_count": null,
            "_view_module": "@jupyter-widgets/base",
            "_view_module_version": "1.2.0",
            "_view_name": "StyleView",
            "bar_color": null,
            "description_width": ""
          }
        },
        "53dfeb0388d84696b0513c56dc3e6ac3": {
          "model_module": "@jupyter-widgets/base",
          "model_name": "LayoutModel",
          "model_module_version": "1.2.0",
          "state": {
            "_model_module": "@jupyter-widgets/base",
            "_model_module_version": "1.2.0",
            "_model_name": "LayoutModel",
            "_view_count": null,
            "_view_module": "@jupyter-widgets/base",
            "_view_module_version": "1.2.0",
            "_view_name": "LayoutView",
            "align_content": null,
            "align_items": null,
            "align_self": null,
            "border": null,
            "bottom": null,
            "display": null,
            "flex": null,
            "flex_flow": null,
            "grid_area": null,
            "grid_auto_columns": null,
            "grid_auto_flow": null,
            "grid_auto_rows": null,
            "grid_column": null,
            "grid_gap": null,
            "grid_row": null,
            "grid_template_areas": null,
            "grid_template_columns": null,
            "grid_template_rows": null,
            "height": null,
            "justify_content": null,
            "justify_items": null,
            "left": null,
            "margin": null,
            "max_height": null,
            "max_width": null,
            "min_height": null,
            "min_width": null,
            "object_fit": null,
            "object_position": null,
            "order": null,
            "overflow": null,
            "overflow_x": null,
            "overflow_y": null,
            "padding": null,
            "right": null,
            "top": null,
            "visibility": null,
            "width": null
          }
        },
        "092cda5d12704c9e858d58e9d13ff0c1": {
          "model_module": "@jupyter-widgets/controls",
          "model_name": "DescriptionStyleModel",
          "model_module_version": "1.5.0",
          "state": {
            "_model_module": "@jupyter-widgets/controls",
            "_model_module_version": "1.5.0",
            "_model_name": "DescriptionStyleModel",
            "_view_count": null,
            "_view_module": "@jupyter-widgets/base",
            "_view_module_version": "1.2.0",
            "_view_name": "StyleView",
            "description_width": ""
          }
        },
        "10260cf4ef364a52811c2b63956460b4": {
          "model_module": "@jupyter-widgets/controls",
          "model_name": "HBoxModel",
          "model_module_version": "1.5.0",
          "state": {
            "_dom_classes": [],
            "_model_module": "@jupyter-widgets/controls",
            "_model_module_version": "1.5.0",
            "_model_name": "HBoxModel",
            "_view_count": null,
            "_view_module": "@jupyter-widgets/controls",
            "_view_module_version": "1.5.0",
            "_view_name": "HBoxView",
            "box_style": "",
            "children": [
              "IPY_MODEL_2e7caf1348014db2bf5db7735b954147",
              "IPY_MODEL_26f59cdea80043fe90b8e549fb760bf8",
              "IPY_MODEL_e5630c83ded84034a5fa35cfdafd0797"
            ],
            "layout": "IPY_MODEL_2c16dfa2580b452ba0ae3e89d92fedb6"
          }
        },
        "2e7caf1348014db2bf5db7735b954147": {
          "model_module": "@jupyter-widgets/controls",
          "model_name": "HTMLModel",
          "model_module_version": "1.5.0",
          "state": {
            "_dom_classes": [],
            "_model_module": "@jupyter-widgets/controls",
            "_model_module_version": "1.5.0",
            "_model_name": "HTMLModel",
            "_view_count": null,
            "_view_module": "@jupyter-widgets/controls",
            "_view_module_version": "1.5.0",
            "_view_name": "HTMLView",
            "description": "",
            "description_tooltip": null,
            "layout": "IPY_MODEL_f820b506a5924085aa469a745d0006d3",
            "placeholder": "​",
            "style": "IPY_MODEL_00179e611df44c389639208b3714717c",
            "value": "100%"
          }
        },
        "26f59cdea80043fe90b8e549fb760bf8": {
          "model_module": "@jupyter-widgets/controls",
          "model_name": "FloatProgressModel",
          "model_module_version": "1.5.0",
          "state": {
            "_dom_classes": [],
            "_model_module": "@jupyter-widgets/controls",
            "_model_module_version": "1.5.0",
            "_model_name": "FloatProgressModel",
            "_view_count": null,
            "_view_module": "@jupyter-widgets/controls",
            "_view_module_version": "1.5.0",
            "_view_name": "ProgressView",
            "bar_style": "success",
            "description": "",
            "description_tooltip": null,
            "layout": "IPY_MODEL_f9c8b8c2aa7540e9b32974d18e36ff3e",
            "max": 46830571,
            "min": 0,
            "orientation": "horizontal",
            "style": "IPY_MODEL_bd9579a5d282442b97ec1a9689649f0a",
            "value": 46830571
          }
        },
        "e5630c83ded84034a5fa35cfdafd0797": {
          "model_module": "@jupyter-widgets/controls",
          "model_name": "HTMLModel",
          "model_module_version": "1.5.0",
          "state": {
            "_dom_classes": [],
            "_model_module": "@jupyter-widgets/controls",
            "_model_module_version": "1.5.0",
            "_model_name": "HTMLModel",
            "_view_count": null,
            "_view_module": "@jupyter-widgets/controls",
            "_view_module_version": "1.5.0",
            "_view_name": "HTMLView",
            "description": "",
            "description_tooltip": null,
            "layout": "IPY_MODEL_0275dfe7eb074e20bf1d46fbd60ccbac",
            "placeholder": "​",
            "style": "IPY_MODEL_db1b90adc82649f3bab2e624982c5423",
            "value": " 44.7M/44.7M [00:00&lt;00:00, 122MB/s]"
          }
        },
        "2c16dfa2580b452ba0ae3e89d92fedb6": {
          "model_module": "@jupyter-widgets/base",
          "model_name": "LayoutModel",
          "model_module_version": "1.2.0",
          "state": {
            "_model_module": "@jupyter-widgets/base",
            "_model_module_version": "1.2.0",
            "_model_name": "LayoutModel",
            "_view_count": null,
            "_view_module": "@jupyter-widgets/base",
            "_view_module_version": "1.2.0",
            "_view_name": "LayoutView",
            "align_content": null,
            "align_items": null,
            "align_self": null,
            "border": null,
            "bottom": null,
            "display": null,
            "flex": null,
            "flex_flow": null,
            "grid_area": null,
            "grid_auto_columns": null,
            "grid_auto_flow": null,
            "grid_auto_rows": null,
            "grid_column": null,
            "grid_gap": null,
            "grid_row": null,
            "grid_template_areas": null,
            "grid_template_columns": null,
            "grid_template_rows": null,
            "height": null,
            "justify_content": null,
            "justify_items": null,
            "left": null,
            "margin": null,
            "max_height": null,
            "max_width": null,
            "min_height": null,
            "min_width": null,
            "object_fit": null,
            "object_position": null,
            "order": null,
            "overflow": null,
            "overflow_x": null,
            "overflow_y": null,
            "padding": null,
            "right": null,
            "top": null,
            "visibility": null,
            "width": null
          }
        },
        "f820b506a5924085aa469a745d0006d3": {
          "model_module": "@jupyter-widgets/base",
          "model_name": "LayoutModel",
          "model_module_version": "1.2.0",
          "state": {
            "_model_module": "@jupyter-widgets/base",
            "_model_module_version": "1.2.0",
            "_model_name": "LayoutModel",
            "_view_count": null,
            "_view_module": "@jupyter-widgets/base",
            "_view_module_version": "1.2.0",
            "_view_name": "LayoutView",
            "align_content": null,
            "align_items": null,
            "align_self": null,
            "border": null,
            "bottom": null,
            "display": null,
            "flex": null,
            "flex_flow": null,
            "grid_area": null,
            "grid_auto_columns": null,
            "grid_auto_flow": null,
            "grid_auto_rows": null,
            "grid_column": null,
            "grid_gap": null,
            "grid_row": null,
            "grid_template_areas": null,
            "grid_template_columns": null,
            "grid_template_rows": null,
            "height": null,
            "justify_content": null,
            "justify_items": null,
            "left": null,
            "margin": null,
            "max_height": null,
            "max_width": null,
            "min_height": null,
            "min_width": null,
            "object_fit": null,
            "object_position": null,
            "order": null,
            "overflow": null,
            "overflow_x": null,
            "overflow_y": null,
            "padding": null,
            "right": null,
            "top": null,
            "visibility": null,
            "width": null
          }
        },
        "00179e611df44c389639208b3714717c": {
          "model_module": "@jupyter-widgets/controls",
          "model_name": "DescriptionStyleModel",
          "model_module_version": "1.5.0",
          "state": {
            "_model_module": "@jupyter-widgets/controls",
            "_model_module_version": "1.5.0",
            "_model_name": "DescriptionStyleModel",
            "_view_count": null,
            "_view_module": "@jupyter-widgets/base",
            "_view_module_version": "1.2.0",
            "_view_name": "StyleView",
            "description_width": ""
          }
        },
        "f9c8b8c2aa7540e9b32974d18e36ff3e": {
          "model_module": "@jupyter-widgets/base",
          "model_name": "LayoutModel",
          "model_module_version": "1.2.0",
          "state": {
            "_model_module": "@jupyter-widgets/base",
            "_model_module_version": "1.2.0",
            "_model_name": "LayoutModel",
            "_view_count": null,
            "_view_module": "@jupyter-widgets/base",
            "_view_module_version": "1.2.0",
            "_view_name": "LayoutView",
            "align_content": null,
            "align_items": null,
            "align_self": null,
            "border": null,
            "bottom": null,
            "display": null,
            "flex": null,
            "flex_flow": null,
            "grid_area": null,
            "grid_auto_columns": null,
            "grid_auto_flow": null,
            "grid_auto_rows": null,
            "grid_column": null,
            "grid_gap": null,
            "grid_row": null,
            "grid_template_areas": null,
            "grid_template_columns": null,
            "grid_template_rows": null,
            "height": null,
            "justify_content": null,
            "justify_items": null,
            "left": null,
            "margin": null,
            "max_height": null,
            "max_width": null,
            "min_height": null,
            "min_width": null,
            "object_fit": null,
            "object_position": null,
            "order": null,
            "overflow": null,
            "overflow_x": null,
            "overflow_y": null,
            "padding": null,
            "right": null,
            "top": null,
            "visibility": null,
            "width": null
          }
        },
        "bd9579a5d282442b97ec1a9689649f0a": {
          "model_module": "@jupyter-widgets/controls",
          "model_name": "ProgressStyleModel",
          "model_module_version": "1.5.0",
          "state": {
            "_model_module": "@jupyter-widgets/controls",
            "_model_module_version": "1.5.0",
            "_model_name": "ProgressStyleModel",
            "_view_count": null,
            "_view_module": "@jupyter-widgets/base",
            "_view_module_version": "1.2.0",
            "_view_name": "StyleView",
            "bar_color": null,
            "description_width": ""
          }
        },
        "0275dfe7eb074e20bf1d46fbd60ccbac": {
          "model_module": "@jupyter-widgets/base",
          "model_name": "LayoutModel",
          "model_module_version": "1.2.0",
          "state": {
            "_model_module": "@jupyter-widgets/base",
            "_model_module_version": "1.2.0",
            "_model_name": "LayoutModel",
            "_view_count": null,
            "_view_module": "@jupyter-widgets/base",
            "_view_module_version": "1.2.0",
            "_view_name": "LayoutView",
            "align_content": null,
            "align_items": null,
            "align_self": null,
            "border": null,
            "bottom": null,
            "display": null,
            "flex": null,
            "flex_flow": null,
            "grid_area": null,
            "grid_auto_columns": null,
            "grid_auto_flow": null,
            "grid_auto_rows": null,
            "grid_column": null,
            "grid_gap": null,
            "grid_row": null,
            "grid_template_areas": null,
            "grid_template_columns": null,
            "grid_template_rows": null,
            "height": null,
            "justify_content": null,
            "justify_items": null,
            "left": null,
            "margin": null,
            "max_height": null,
            "max_width": null,
            "min_height": null,
            "min_width": null,
            "object_fit": null,
            "object_position": null,
            "order": null,
            "overflow": null,
            "overflow_x": null,
            "overflow_y": null,
            "padding": null,
            "right": null,
            "top": null,
            "visibility": null,
            "width": null
          }
        },
        "db1b90adc82649f3bab2e624982c5423": {
          "model_module": "@jupyter-widgets/controls",
          "model_name": "DescriptionStyleModel",
          "model_module_version": "1.5.0",
          "state": {
            "_model_module": "@jupyter-widgets/controls",
            "_model_module_version": "1.5.0",
            "_model_name": "DescriptionStyleModel",
            "_view_count": null,
            "_view_module": "@jupyter-widgets/base",
            "_view_module_version": "1.2.0",
            "_view_name": "StyleView",
            "description_width": ""
          }
        },
        "09df95d00ed64a8ebc72096547e534dd": {
          "model_module": "@jupyter-widgets/controls",
          "model_name": "HBoxModel",
          "model_module_version": "1.5.0",
          "state": {
            "_dom_classes": [],
            "_model_module": "@jupyter-widgets/controls",
            "_model_module_version": "1.5.0",
            "_model_name": "HBoxModel",
            "_view_count": null,
            "_view_module": "@jupyter-widgets/controls",
            "_view_module_version": "1.5.0",
            "_view_name": "HBoxView",
            "box_style": "",
            "children": [
              "IPY_MODEL_920c4da3b1324477ad3677699fa7f212",
              "IPY_MODEL_a97f44e592e1478b9c4eea9ee3fff68a",
              "IPY_MODEL_c1ba60aaeb0147e19b147cf4d9919128"
            ],
            "layout": "IPY_MODEL_3eafcb830a124cdb9fc24d496bbd1381"
          }
        },
        "920c4da3b1324477ad3677699fa7f212": {
          "model_module": "@jupyter-widgets/controls",
          "model_name": "HTMLModel",
          "model_module_version": "1.5.0",
          "state": {
            "_dom_classes": [],
            "_model_module": "@jupyter-widgets/controls",
            "_model_module_version": "1.5.0",
            "_model_name": "HTMLModel",
            "_view_count": null,
            "_view_module": "@jupyter-widgets/controls",
            "_view_module_version": "1.5.0",
            "_view_name": "HTMLView",
            "description": "",
            "description_tooltip": null,
            "layout": "IPY_MODEL_9b3e5cc00e8b49708b2849a2d3760f3d",
            "placeholder": "​",
            "style": "IPY_MODEL_80b100252b914e1a8fa6549fc319b2c0",
            "value": "100%"
          }
        },
        "a97f44e592e1478b9c4eea9ee3fff68a": {
          "model_module": "@jupyter-widgets/controls",
          "model_name": "FloatProgressModel",
          "model_module_version": "1.5.0",
          "state": {
            "_dom_classes": [],
            "_model_module": "@jupyter-widgets/controls",
            "_model_module_version": "1.5.0",
            "_model_name": "FloatProgressModel",
            "_view_count": null,
            "_view_module": "@jupyter-widgets/controls",
            "_view_module_version": "1.5.0",
            "_view_name": "ProgressView",
            "bar_style": "success",
            "description": "",
            "description_tooltip": null,
            "layout": "IPY_MODEL_b6b40e4a0d924dddb9e291bbb01ea5bd",
            "max": 32342954,
            "min": 0,
            "orientation": "horizontal",
            "style": "IPY_MODEL_3570ca43ccde4672ba3ef1d2130f188f",
            "value": 32342954
          }
        },
        "c1ba60aaeb0147e19b147cf4d9919128": {
          "model_module": "@jupyter-widgets/controls",
          "model_name": "HTMLModel",
          "model_module_version": "1.5.0",
          "state": {
            "_dom_classes": [],
            "_model_module": "@jupyter-widgets/controls",
            "_model_module_version": "1.5.0",
            "_model_name": "HTMLModel",
            "_view_count": null,
            "_view_module": "@jupyter-widgets/controls",
            "_view_module_version": "1.5.0",
            "_view_name": "HTMLView",
            "description": "",
            "description_tooltip": null,
            "layout": "IPY_MODEL_18d8157493a74f2da32f11b1ec9693f8",
            "placeholder": "​",
            "style": "IPY_MODEL_4a28fec17c1b4a63b8f2986b8653fdc1",
            "value": " 30.8M/30.8M [00:00&lt;00:00, 81.6MB/s]"
          }
        },
        "3eafcb830a124cdb9fc24d496bbd1381": {
          "model_module": "@jupyter-widgets/base",
          "model_name": "LayoutModel",
          "model_module_version": "1.2.0",
          "state": {
            "_model_module": "@jupyter-widgets/base",
            "_model_module_version": "1.2.0",
            "_model_name": "LayoutModel",
            "_view_count": null,
            "_view_module": "@jupyter-widgets/base",
            "_view_module_version": "1.2.0",
            "_view_name": "LayoutView",
            "align_content": null,
            "align_items": null,
            "align_self": null,
            "border": null,
            "bottom": null,
            "display": null,
            "flex": null,
            "flex_flow": null,
            "grid_area": null,
            "grid_auto_columns": null,
            "grid_auto_flow": null,
            "grid_auto_rows": null,
            "grid_column": null,
            "grid_gap": null,
            "grid_row": null,
            "grid_template_areas": null,
            "grid_template_columns": null,
            "grid_template_rows": null,
            "height": null,
            "justify_content": null,
            "justify_items": null,
            "left": null,
            "margin": null,
            "max_height": null,
            "max_width": null,
            "min_height": null,
            "min_width": null,
            "object_fit": null,
            "object_position": null,
            "order": null,
            "overflow": null,
            "overflow_x": null,
            "overflow_y": null,
            "padding": null,
            "right": null,
            "top": null,
            "visibility": null,
            "width": null
          }
        },
        "9b3e5cc00e8b49708b2849a2d3760f3d": {
          "model_module": "@jupyter-widgets/base",
          "model_name": "LayoutModel",
          "model_module_version": "1.2.0",
          "state": {
            "_model_module": "@jupyter-widgets/base",
            "_model_module_version": "1.2.0",
            "_model_name": "LayoutModel",
            "_view_count": null,
            "_view_module": "@jupyter-widgets/base",
            "_view_module_version": "1.2.0",
            "_view_name": "LayoutView",
            "align_content": null,
            "align_items": null,
            "align_self": null,
            "border": null,
            "bottom": null,
            "display": null,
            "flex": null,
            "flex_flow": null,
            "grid_area": null,
            "grid_auto_columns": null,
            "grid_auto_flow": null,
            "grid_auto_rows": null,
            "grid_column": null,
            "grid_gap": null,
            "grid_row": null,
            "grid_template_areas": null,
            "grid_template_columns": null,
            "grid_template_rows": null,
            "height": null,
            "justify_content": null,
            "justify_items": null,
            "left": null,
            "margin": null,
            "max_height": null,
            "max_width": null,
            "min_height": null,
            "min_width": null,
            "object_fit": null,
            "object_position": null,
            "order": null,
            "overflow": null,
            "overflow_x": null,
            "overflow_y": null,
            "padding": null,
            "right": null,
            "top": null,
            "visibility": null,
            "width": null
          }
        },
        "80b100252b914e1a8fa6549fc319b2c0": {
          "model_module": "@jupyter-widgets/controls",
          "model_name": "DescriptionStyleModel",
          "model_module_version": "1.5.0",
          "state": {
            "_model_module": "@jupyter-widgets/controls",
            "_model_module_version": "1.5.0",
            "_model_name": "DescriptionStyleModel",
            "_view_count": null,
            "_view_module": "@jupyter-widgets/base",
            "_view_module_version": "1.2.0",
            "_view_name": "StyleView",
            "description_width": ""
          }
        },
        "b6b40e4a0d924dddb9e291bbb01ea5bd": {
          "model_module": "@jupyter-widgets/base",
          "model_name": "LayoutModel",
          "model_module_version": "1.2.0",
          "state": {
            "_model_module": "@jupyter-widgets/base",
            "_model_module_version": "1.2.0",
            "_model_name": "LayoutModel",
            "_view_count": null,
            "_view_module": "@jupyter-widgets/base",
            "_view_module_version": "1.2.0",
            "_view_name": "LayoutView",
            "align_content": null,
            "align_items": null,
            "align_self": null,
            "border": null,
            "bottom": null,
            "display": null,
            "flex": null,
            "flex_flow": null,
            "grid_area": null,
            "grid_auto_columns": null,
            "grid_auto_flow": null,
            "grid_auto_rows": null,
            "grid_column": null,
            "grid_gap": null,
            "grid_row": null,
            "grid_template_areas": null,
            "grid_template_columns": null,
            "grid_template_rows": null,
            "height": null,
            "justify_content": null,
            "justify_items": null,
            "left": null,
            "margin": null,
            "max_height": null,
            "max_width": null,
            "min_height": null,
            "min_width": null,
            "object_fit": null,
            "object_position": null,
            "order": null,
            "overflow": null,
            "overflow_x": null,
            "overflow_y": null,
            "padding": null,
            "right": null,
            "top": null,
            "visibility": null,
            "width": null
          }
        },
        "3570ca43ccde4672ba3ef1d2130f188f": {
          "model_module": "@jupyter-widgets/controls",
          "model_name": "ProgressStyleModel",
          "model_module_version": "1.5.0",
          "state": {
            "_model_module": "@jupyter-widgets/controls",
            "_model_module_version": "1.5.0",
            "_model_name": "ProgressStyleModel",
            "_view_count": null,
            "_view_module": "@jupyter-widgets/base",
            "_view_module_version": "1.2.0",
            "_view_name": "StyleView",
            "bar_color": null,
            "description_width": ""
          }
        },
        "18d8157493a74f2da32f11b1ec9693f8": {
          "model_module": "@jupyter-widgets/base",
          "model_name": "LayoutModel",
          "model_module_version": "1.2.0",
          "state": {
            "_model_module": "@jupyter-widgets/base",
            "_model_module_version": "1.2.0",
            "_model_name": "LayoutModel",
            "_view_count": null,
            "_view_module": "@jupyter-widgets/base",
            "_view_module_version": "1.2.0",
            "_view_name": "LayoutView",
            "align_content": null,
            "align_items": null,
            "align_self": null,
            "border": null,
            "bottom": null,
            "display": null,
            "flex": null,
            "flex_flow": null,
            "grid_area": null,
            "grid_auto_columns": null,
            "grid_auto_flow": null,
            "grid_auto_rows": null,
            "grid_column": null,
            "grid_gap": null,
            "grid_row": null,
            "grid_template_areas": null,
            "grid_template_columns": null,
            "grid_template_rows": null,
            "height": null,
            "justify_content": null,
            "justify_items": null,
            "left": null,
            "margin": null,
            "max_height": null,
            "max_width": null,
            "min_height": null,
            "min_width": null,
            "object_fit": null,
            "object_position": null,
            "order": null,
            "overflow": null,
            "overflow_x": null,
            "overflow_y": null,
            "padding": null,
            "right": null,
            "top": null,
            "visibility": null,
            "width": null
          }
        },
        "4a28fec17c1b4a63b8f2986b8653fdc1": {
          "model_module": "@jupyter-widgets/controls",
          "model_name": "DescriptionStyleModel",
          "model_module_version": "1.5.0",
          "state": {
            "_model_module": "@jupyter-widgets/controls",
            "_model_module_version": "1.5.0",
            "_model_name": "DescriptionStyleModel",
            "_view_count": null,
            "_view_module": "@jupyter-widgets/base",
            "_view_module_version": "1.2.0",
            "_view_name": "StyleView",
            "description_width": ""
          }
        }
      }
    }
  },
  "cells": [
    {
      "cell_type": "markdown",
      "metadata": {
        "id": "view-in-github",
        "colab_type": "text"
      },
      "source": [
        "<a href=\"https://colab.research.google.com/github/Pavel123465789/01NAEX/blob/main/SU2_final.ipynb\" target=\"_parent\"><img src=\"https://colab.research.google.com/assets/colab-badge.svg\" alt=\"Open In Colab\"/></a>"
      ]
    },
    {
      "cell_type": "markdown",
      "source": [
        "# **Vehicle classifier**\n",
        "**Final project to Machine Learning 2**\n",
        "\n",
        "Created by:\n",
        "* Pavel Stojaspal\n",
        "* Lukáš Kysilka"
      ],
      "metadata": {
        "id": "BjIW5kA-a4Mg"
      }
    },
    {
      "cell_type": "markdown",
      "source": [
        "##Aim"
      ],
      "metadata": {
        "id": "XR6mXShQc-wz"
      }
    },
    {
      "cell_type": "markdown",
      "source": [
        "**We would like to classify:**\n",
        "1. bycicle\n",
        "2. boat\n",
        "3. bus\n",
        "4. car\n",
        "5. van\n",
        "6. motorcycle\n",
        "7. truck\n",
        "\n",
        "\n"
      ],
      "metadata": {
        "id": "ig1-77xWu7gQ"
      }
    },
    {
      "cell_type": "markdown",
      "source": [
        "* As a source of data we have downloaded [dataset](https://www.kaggle.com/datasets/iamsandeepprasad/vehicle-data-set) from kaggle.\n",
        "* We would like to use pretrained models (AlexNet, VGG, DenseNet, ResNet and DenseNet). First, by transfer learning we fit the above mention models to classify our 7-class problem. Then by combination of these four models based on mode statistics we propose our final model.\n",
        "* Because the data were quite huge, we downloaded them to our google drive and mound it to colab.\n",
        "* To save time during model training we used preproccesing of data. The preproccesed data were storaged to our google drive."
      ],
      "metadata": {
        "id": "ZLGw4wEldUP3"
      }
    },
    {
      "cell_type": "code",
      "source": [
        "# number of objects to be classified\n",
        "N = 7"
      ],
      "metadata": {
        "id": "iSY8yf1d6CcO"
      },
      "execution_count": null,
      "outputs": []
    },
    {
      "cell_type": "markdown",
      "source": [
        "# Imports"
      ],
      "metadata": {
        "id": "H5GFxiWa6xBj"
      }
    },
    {
      "cell_type": "code",
      "source": [
        "import numpy as np\n",
        "import datetime\n",
        "import matplotlib.pyplot as plt\n",
        "from scipy import stats\n",
        "import pandas as pd\n",
        "\n",
        "import numpy as np\n",
        "from PIL import Image\n",
        "from copy import deepcopy\n",
        "\n",
        "import torch\n",
        "from torch.utils.tensorboard import SummaryWriter\n",
        "import torch.nn as nn\n",
        "import torch.optim as optim\n",
        "from torch.utils.data import Dataset, TensorDataset, DataLoader\n",
        "device = 'cuda' if torch.cuda.is_available() else 'cpu'\n",
        "\n",
        "import torch.optim as optim\n",
        "import torch.nn as nn\n",
        "import torch.nn.functional as F\n",
        "\n",
        "from torch.utils.data import DataLoader, TensorDataset, random_split\n",
        "from torchvision.transforms import Compose, ToTensor, Normalize, \\\n",
        "ToPILImage, Resize, CenterCrop\n",
        "from torchvision.datasets import ImageFolder"
      ],
      "metadata": {
        "id": "oKM60S5C6xdj"
      },
      "execution_count": null,
      "outputs": []
    },
    {
      "cell_type": "markdown",
      "source": [
        "# Data import\n",
        "[Data](https://www.kaggle.com/datasets/iamsandeepprasad/vehicle-data-set) on kaggle\n",
        "\n",
        "Link to [google disk](https://drive.google.com/drive/folders/1dbge6l9-OZU8rizDWWWkPkQ2sSMNz20L?usp=sharing)"
      ],
      "metadata": {
        "id": "XcSfhdAL1raa"
      }
    },
    {
      "cell_type": "code",
      "execution_count": null,
      "metadata": {
        "id": "5mkzT63S1pUy",
        "colab": {
          "base_uri": "https://localhost:8080/"
        },
        "outputId": "0179aafb-2508-4d6e-b89c-3b75ded0e4ee"
      },
      "outputs": [
        {
          "output_type": "stream",
          "name": "stdout",
          "text": [
            "Mounted at /content/drive\n"
          ]
        }
      ],
      "source": [
        "from google.colab import drive\n",
        "drive.mount('/content/drive')\n",
        "\n",
        "# path to data\n",
        "path = \"/content/drive/MyDrive/SU2-data/\""
      ]
    },
    {
      "cell_type": "markdown",
      "source": [
        "# Pre-trained models download"
      ],
      "metadata": {
        "id": "-zCfUyF5ueTK"
      }
    },
    {
      "cell_type": "markdown",
      "source": [
        "Pytroch documentation of some pre-trained [models](https://pytorch.org/vision/main/models.html):\n",
        "* [AlexNet](https://pytorch.org/vision/main/models/alexnet.html)\n",
        "* [VGG](https://pytorch.org/vision/main/models/vgg.html)\n",
        "* [ResNet](https://pytorch.org/vision/main/models/resnet.html)\n",
        "* [DenseNet](https://pytorch.org/vision/main/models/densenet.html)"
      ],
      "metadata": {
        "id": "UDT-uzcTtFhY"
      }
    },
    {
      "cell_type": "code",
      "source": [
        "# import of some pre-trained models:\n",
        "from torchvision.models import alexnet\n",
        "from torchvision.models import vgg19_bn\n",
        "from torchvision.models import resnet18\n",
        "from torchvision.models import resnet152\n",
        "from torchvision.models import densenet121\n",
        "from torchvision.models import densenet201"
      ],
      "metadata": {
        "id": "6-iSD2wxsTJ2"
      },
      "execution_count": null,
      "outputs": []
    },
    {
      "cell_type": "code",
      "source": [
        "# model loading\n",
        "AlexNet = alexnet(pretrained=True)\n",
        "VGG = vgg19_bn(pretrained=True)\n",
        "ResNet = resnet18(pretrained=True)\n",
        "DenseNet = densenet121(pretrained=True)"
      ],
      "metadata": {
        "id": "AZzaFldjsfxn",
        "outputId": "a6ac3bc7-c7d9-4637-d8c3-8d87e28f8ec1",
        "colab": {
          "base_uri": "https://localhost:8080/",
          "referenced_widgets": [
            "3ae513402a364fc3afbaf9b72d6c2028",
            "3b0c6ba12c8b497e8b3a0f31704a7c49",
            "0bea0a4a9d4241498ba957d3c8c103b2",
            "135dfef9696a40cdaa5acf5ca5ca91a4",
            "f41e791938c846269b8139f7ac2fccf6",
            "c5d74886ba5245c193ca053a1f612110",
            "2a3458b5b18648209d0c27963a5b9da2",
            "e7e6ed92a4d149be927a357a58cc1a21",
            "5a689b90d43249c68304c85bf5849b77",
            "af8a576fe39c4cfe9b6b4a562d28a3a0",
            "623ce0023c80489583e972eff134d239",
            "7d52bf4d7f7e438ab37702807f3cb115",
            "4df5c780ef144a229cbe7bf66538b030",
            "b0cb918e838c4bf98d57c2b6420bae7b",
            "4809609075b840beab0813325af4c1ad",
            "2a824042897648bfa4130a8d2cd56e1f",
            "9bf170a1268f46609b09c5400799e943",
            "0e927d247cf54313be3be7563172e8a7",
            "e0f0d0f8182742a2a0065e1aa374769e",
            "4458381bcc344cdaaed3abdfbe3ba93b",
            "53dfeb0388d84696b0513c56dc3e6ac3",
            "092cda5d12704c9e858d58e9d13ff0c1",
            "10260cf4ef364a52811c2b63956460b4",
            "2e7caf1348014db2bf5db7735b954147",
            "26f59cdea80043fe90b8e549fb760bf8",
            "e5630c83ded84034a5fa35cfdafd0797",
            "2c16dfa2580b452ba0ae3e89d92fedb6",
            "f820b506a5924085aa469a745d0006d3",
            "00179e611df44c389639208b3714717c",
            "f9c8b8c2aa7540e9b32974d18e36ff3e",
            "bd9579a5d282442b97ec1a9689649f0a",
            "0275dfe7eb074e20bf1d46fbd60ccbac",
            "db1b90adc82649f3bab2e624982c5423",
            "09df95d00ed64a8ebc72096547e534dd",
            "920c4da3b1324477ad3677699fa7f212",
            "a97f44e592e1478b9c4eea9ee3fff68a",
            "c1ba60aaeb0147e19b147cf4d9919128",
            "3eafcb830a124cdb9fc24d496bbd1381",
            "9b3e5cc00e8b49708b2849a2d3760f3d",
            "80b100252b914e1a8fa6549fc319b2c0",
            "b6b40e4a0d924dddb9e291bbb01ea5bd",
            "3570ca43ccde4672ba3ef1d2130f188f",
            "18d8157493a74f2da32f11b1ec9693f8",
            "4a28fec17c1b4a63b8f2986b8653fdc1"
          ]
        }
      },
      "execution_count": null,
      "outputs": [
        {
          "output_type": "stream",
          "name": "stderr",
          "text": [
            "/usr/local/lib/python3.8/dist-packages/torchvision/models/_utils.py:208: UserWarning: The parameter 'pretrained' is deprecated since 0.13 and may be removed in the future, please use 'weights' instead.\n",
            "  warnings.warn(\n",
            "/usr/local/lib/python3.8/dist-packages/torchvision/models/_utils.py:223: UserWarning: Arguments other than a weight enum or `None` for 'weights' are deprecated since 0.13 and may be removed in the future. The current behavior is equivalent to passing `weights=AlexNet_Weights.IMAGENET1K_V1`. You can also use `weights=AlexNet_Weights.DEFAULT` to get the most up-to-date weights.\n",
            "  warnings.warn(msg)\n",
            "Downloading: \"https://download.pytorch.org/models/alexnet-owt-7be5be79.pth\" to /root/.cache/torch/hub/checkpoints/alexnet-owt-7be5be79.pth\n"
          ]
        },
        {
          "output_type": "display_data",
          "data": {
            "text/plain": [
              "  0%|          | 0.00/233M [00:00<?, ?B/s]"
            ],
            "application/vnd.jupyter.widget-view+json": {
              "version_major": 2,
              "version_minor": 0,
              "model_id": "3ae513402a364fc3afbaf9b72d6c2028"
            }
          },
          "metadata": {}
        },
        {
          "output_type": "stream",
          "name": "stderr",
          "text": [
            "/usr/local/lib/python3.8/dist-packages/torchvision/models/_utils.py:223: UserWarning: Arguments other than a weight enum or `None` for 'weights' are deprecated since 0.13 and may be removed in the future. The current behavior is equivalent to passing `weights=VGG19_BN_Weights.IMAGENET1K_V1`. You can also use `weights=VGG19_BN_Weights.DEFAULT` to get the most up-to-date weights.\n",
            "  warnings.warn(msg)\n",
            "Downloading: \"https://download.pytorch.org/models/vgg19_bn-c79401a0.pth\" to /root/.cache/torch/hub/checkpoints/vgg19_bn-c79401a0.pth\n"
          ]
        },
        {
          "output_type": "display_data",
          "data": {
            "text/plain": [
              "  0%|          | 0.00/548M [00:00<?, ?B/s]"
            ],
            "application/vnd.jupyter.widget-view+json": {
              "version_major": 2,
              "version_minor": 0,
              "model_id": "7d52bf4d7f7e438ab37702807f3cb115"
            }
          },
          "metadata": {}
        },
        {
          "output_type": "stream",
          "name": "stderr",
          "text": [
            "/usr/local/lib/python3.8/dist-packages/torchvision/models/_utils.py:223: UserWarning: Arguments other than a weight enum or `None` for 'weights' are deprecated since 0.13 and may be removed in the future. The current behavior is equivalent to passing `weights=ResNet18_Weights.IMAGENET1K_V1`. You can also use `weights=ResNet18_Weights.DEFAULT` to get the most up-to-date weights.\n",
            "  warnings.warn(msg)\n",
            "Downloading: \"https://download.pytorch.org/models/resnet18-f37072fd.pth\" to /root/.cache/torch/hub/checkpoints/resnet18-f37072fd.pth\n"
          ]
        },
        {
          "output_type": "display_data",
          "data": {
            "text/plain": [
              "  0%|          | 0.00/44.7M [00:00<?, ?B/s]"
            ],
            "application/vnd.jupyter.widget-view+json": {
              "version_major": 2,
              "version_minor": 0,
              "model_id": "10260cf4ef364a52811c2b63956460b4"
            }
          },
          "metadata": {}
        },
        {
          "output_type": "stream",
          "name": "stderr",
          "text": [
            "/usr/local/lib/python3.8/dist-packages/torchvision/models/_utils.py:223: UserWarning: Arguments other than a weight enum or `None` for 'weights' are deprecated since 0.13 and may be removed in the future. The current behavior is equivalent to passing `weights=DenseNet121_Weights.IMAGENET1K_V1`. You can also use `weights=DenseNet121_Weights.DEFAULT` to get the most up-to-date weights.\n",
            "  warnings.warn(msg)\n",
            "Downloading: \"https://download.pytorch.org/models/densenet121-a639ec97.pth\" to /root/.cache/torch/hub/checkpoints/densenet121-a639ec97.pth\n"
          ]
        },
        {
          "output_type": "display_data",
          "data": {
            "text/plain": [
              "  0%|          | 0.00/30.8M [00:00<?, ?B/s]"
            ],
            "application/vnd.jupyter.widget-view+json": {
              "version_major": 2,
              "version_minor": 0,
              "model_id": "09df95d00ed64a8ebc72096547e534dd"
            }
          },
          "metadata": {}
        }
      ]
    },
    {
      "cell_type": "code",
      "source": [
        "# set output of the last layer of classifiers to identity\n",
        "def set_classifiers_to_identity():\n",
        "  AlexNet.classifier[6] = nn.Identity()\n",
        "  VGG.classifier[6] = nn.Identity()\n",
        "  ResNet.fc = nn.Identity()\n",
        "  DenseNet.classifier = nn.Identity()"
      ],
      "metadata": {
        "id": "pH4wI-9pHMfl"
      },
      "execution_count": null,
      "outputs": []
    },
    {
      "cell_type": "code",
      "source": [
        "# set output of the last layer of classifiers to \"N\"\n",
        "def set_classifiers_output_to_N(n=N):\n",
        "  AlexNet.classifier[6] = nn.Linear(4096, n)\n",
        "  VGG.classifier[6] = nn.Linear(4096, n)\n",
        "  ResNet.fc = nn.Linear(512,n)\n",
        "  DenseNet.classifier = nn.Linear(1024,n)"
      ],
      "metadata": {
        "id": "dVqQIxlzHXsn"
      },
      "execution_count": null,
      "outputs": []
    },
    {
      "cell_type": "code",
      "source": [
        "# list of all models\n",
        "models = [AlexNet,\n",
        "          VGG,\n",
        "          ResNet,\n",
        "          DenseNet]\n",
        "# make dict \"model_name\":\"model\"\n",
        "models_dict = { model.__class__.__name__ : model for model in models }"
      ],
      "metadata": {
        "id": "Q472x75OBCBy"
      },
      "execution_count": null,
      "outputs": []
    },
    {
      "cell_type": "code",
      "source": [
        "# see model architecture\n",
        "print(AlexNet.classifier)\n",
        "#print(VGG.classifier)\n",
        "#print(ResNet.fc)\n",
        "#print(DenseNet.classifier)"
      ],
      "metadata": {
        "id": "Ov0INOc-skqH",
        "outputId": "dd92bcdd-08fc-46c5-a8da-e3156fc11ac7",
        "colab": {
          "base_uri": "https://localhost:8080/"
        }
      },
      "execution_count": null,
      "outputs": [
        {
          "output_type": "stream",
          "name": "stdout",
          "text": [
            "Sequential(\n",
            "  (0): Dropout(p=0.5, inplace=False)\n",
            "  (1): Linear(in_features=9216, out_features=4096, bias=True)\n",
            "  (2): ReLU(inplace=True)\n",
            "  (3): Dropout(p=0.5, inplace=False)\n",
            "  (4): Linear(in_features=4096, out_features=4096, bias=True)\n",
            "  (5): ReLU(inplace=True)\n",
            "  (6): Linear(in_features=4096, out_features=1000, bias=True)\n",
            ")\n"
          ]
        }
      ]
    },
    {
      "cell_type": "code",
      "source": [
        "# freeze models\n",
        "def freeze_model(model):\n",
        "    for parameter in model.parameters():\n",
        "        parameter.requires_grad = False\n",
        "\n",
        "for model in models:\n",
        "  freeze_model(model)"
      ],
      "metadata": {
        "id": "-voODsgeuHYl"
      },
      "execution_count": null,
      "outputs": []
    },
    {
      "cell_type": "markdown",
      "source": [
        "# Learning class"
      ],
      "metadata": {
        "id": "ebSiCjRnM439"
      }
    },
    {
      "cell_type": "code",
      "source": [
        "class StepByStep(object):\n",
        "    def __init__(self, model, loss_fn, optimizer):\n",
        "        self.model = model\n",
        "        self.loss_fn = loss_fn\n",
        "        self.optimizer = optimizer\n",
        "        self.device = 'cuda' if torch.cuda.is_available() else 'cpu'\n",
        "        self.model.to(self.device)\n",
        "        self.train_loader = None\n",
        "        self.val_loader = None\n",
        "        self.writer = None\n",
        "        self.losses = []\n",
        "        self.val_losses = []\n",
        "        self.total_epochs = 0\n",
        "        self.train_step = self._make_train_step()\n",
        "        self.val_step = self._make_val_step()\n",
        "\n",
        "    def to(self, device):\n",
        "        self.device = device\n",
        "        self.model.to(self.device)\n",
        "\n",
        "    def set_loaders(self, train_loader, val_loader=None):\n",
        "        self.train_loader = train_loader\n",
        "        self.val_loader = val_loader\n",
        "\n",
        "    def set_optimizer(self, optimizer):\n",
        "        self.optimizer = optimizer\n",
        "\n",
        "    def _make_train_step(self):\n",
        "        def perform_train_step(x, y):\n",
        "            self.model.train()\n",
        "            yhat = self.model(x)\n",
        "            loss = self.loss_fn(yhat, y)\n",
        "            loss.backward()\n",
        "            self.optimizer.step()\n",
        "            self.optimizer.zero_grad()\n",
        "            return loss.item()\n",
        "\n",
        "        return perform_train_step\n",
        "    \n",
        "    def _make_val_step(self):\n",
        "        def perform_val_step(x, y):\n",
        "            self.model.eval()\n",
        "            yhat = self.model(x)\n",
        "            loss = self.loss_fn(yhat, y)\n",
        "            return loss.item()\n",
        "\n",
        "        return perform_val_step\n",
        "            \n",
        "    def _mini_batch(self, validation=False):\n",
        "        if validation:\n",
        "            data_loader = self.val_loader\n",
        "            step = self.val_step\n",
        "        else:\n",
        "            data_loader = self.train_loader\n",
        "            step = self.train_step\n",
        "\n",
        "        if data_loader is None:\n",
        "            return None\n",
        "            \n",
        "        mini_batch_losses = []\n",
        "        for x_batch, y_batch in data_loader:\n",
        "            x_batch = x_batch.to(self.device)\n",
        "            y_batch = y_batch.to(self.device)\n",
        "\n",
        "            mini_batch_loss = step(x_batch, y_batch)\n",
        "            mini_batch_losses.append(mini_batch_loss)\n",
        "\n",
        "        loss = np.mean(mini_batch_losses)\n",
        "        return loss\n",
        "\n",
        "    def set_seed(self, seed=42):\n",
        "        torch.backends.cudnn.deterministic = True\n",
        "        torch.backends.cudnn.benchmark = False    \n",
        "        torch.manual_seed(seed)\n",
        "        np.random.seed(seed)\n",
        "    \n",
        "    def train(self, n_epochs, seed=42):\n",
        "        self.set_seed(seed)\n",
        "\n",
        "        for epoch in range(n_epochs):\n",
        "            self.total_epochs += 1\n",
        "            loss = self._mini_batch(validation=False)\n",
        "            self.losses.append(loss)\n",
        "            with torch.no_grad():\n",
        "                val_loss = self._mini_batch(validation=True)\n",
        "                self.val_losses.append(val_loss)\n",
        "            print(\"epoch:\\t[{}/{}]\".format(epoch+1, n_epochs))\n",
        "\n",
        "    def save_checkpoint(self, filename):\n",
        "        checkpoint = {'epoch': self.total_epochs,\n",
        "                      'model_state_dict': self.model.state_dict(),\n",
        "                      'optimizer_state_dict': self.optimizer.state_dict(),\n",
        "                      'loss': self.losses,\n",
        "                      'val_loss': self.val_losses}\n",
        "\n",
        "        torch.save(checkpoint, filename)\n",
        "\n",
        "    def load_checkpoint(self, filename):\n",
        "        checkpoint = torch.load(filename)\n",
        "\n",
        "        self.model.load_state_dict(checkpoint['model_state_dict'])\n",
        "        self.optimizer.load_state_dict(checkpoint['optimizer_state_dict'])\n",
        "\n",
        "        self.total_epochs = checkpoint['epoch']\n",
        "        self.losses = checkpoint['loss']\n",
        "        self.val_losses = checkpoint['val_loss']\n",
        "\n",
        "        self.model.train()    \n",
        "\n",
        "    def predict(self, x):\n",
        "        self.model.eval() \n",
        "        x_tensor = torch.as_tensor(x).float()\n",
        "        y_hat_tensor = self.model(x_tensor.to(self.device))\n",
        "        self.model.train()\n",
        "        return y_hat_tensor.detach().cpu().numpy()\n",
        "\n",
        "    def plot_losses(self):\n",
        "        fig = plt.figure(figsize=(10, 4))\n",
        "        plt.plot(self.losses, label='Training Loss', c='b')\n",
        "        plt.plot(self.val_losses, label='Validation Loss', c='r')\n",
        "        plt.yscale('log')\n",
        "        plt.xlabel('Epochs')\n",
        "        plt.ylabel('Loss')\n",
        "        plt.legend()\n",
        "        plt.tight_layout()\n",
        "        plt.show()\n",
        "        #return fig"
      ],
      "metadata": {
        "id": "uVX4zowLM_mk"
      },
      "execution_count": null,
      "outputs": []
    },
    {
      "cell_type": "code",
      "source": [
        "# calculate how good the prediction is\n",
        "# for StepByStep class\n",
        "def correct_sbs(sbs_cnn, x, y, threshold=.5):\n",
        "    sbs_cnn.model.eval()\n",
        "    yhat = sbs_cnn.model(x.to(sbs_cnn.device))\n",
        "    y = y.to(sbs_cnn.device)\n",
        "    sbs_cnn.model.train()\n",
        "\n",
        "    # We get the size of the batch and the number of classes \n",
        "    _, n_dims = yhat.shape\n",
        "    _, predicted = torch.max(yhat, 1)\n",
        "    \n",
        "    # How many samples got classified correctly for each class\n",
        "    result = []\n",
        "    for c in range(n_dims):\n",
        "        n_class = (y == c).sum().item()\n",
        "        n_correct = (predicted[y == c] == c).sum().item()\n",
        "        result.append((n_correct, n_class))\n",
        "    return torch.tensor(result)"
      ],
      "metadata": {
        "id": "mBe8rs2DnpzH"
      },
      "execution_count": null,
      "outputs": []
    },
    {
      "cell_type": "code",
      "source": [
        "# function to get get preccision\n",
        "def correct(model, x, y, threshold=.5):\n",
        "    device = next(model.parameters()).device\n",
        "    model.eval()\n",
        "    yhat = model(x.to(device))\n",
        "    y = y.to(device)\n",
        "    model.train()\n",
        "\n",
        "    # We get the size of the batch and the number of classes \n",
        "    _, n_dims = yhat.shape\n",
        "    _, predicted = torch.max(yhat, 1)\n",
        "    \n",
        "    # How many samples got classified correctly for each class\n",
        "    result = []\n",
        "    for c in range(n_dims):\n",
        "        n_class = (y == c).sum().item()\n",
        "        n_correct = (predicted[y == c] == c).sum().item()\n",
        "        result.append((n_correct, n_class))\n",
        "    return torch.tensor(result)"
      ],
      "metadata": {
        "id": "MFoKGhvczYRW"
      },
      "execution_count": null,
      "outputs": []
    },
    {
      "cell_type": "markdown",
      "source": [
        "# Transfer learning:"
      ],
      "metadata": {
        "id": "kDkgGI3dvZxv"
      }
    },
    {
      "cell_type": "markdown",
      "source": [
        "## AlexNet transfer learning"
      ],
      "metadata": {
        "id": "S4usVfWxkoTL"
      }
    },
    {
      "cell_type": "code",
      "source": [
        "# settings\n",
        "batch_size = 16\n",
        "n_epochs = 3\n",
        "learning_rate = 3e-4"
      ],
      "metadata": {
        "id": "bC_WBCs8shMx"
      },
      "execution_count": null,
      "outputs": []
    },
    {
      "cell_type": "code",
      "source": [
        "# freeze models\n",
        "freeze_model(AlexNet)"
      ],
      "metadata": {
        "id": "nVECNOA5vfm0"
      },
      "execution_count": null,
      "outputs": []
    },
    {
      "cell_type": "code",
      "source": [
        "# define top layer\n",
        "alex_top = nn.Sequential(nn.Linear(4096, N))\n",
        "multi_loss_fn = nn.CrossEntropyLoss(reduction='mean')\n",
        "optimizer_top = optim.Adam(alex_top.parameters(), lr=learning_rate)"
      ],
      "metadata": {
        "id": "ly8r20SRKPXV"
      },
      "execution_count": null,
      "outputs": []
    },
    {
      "cell_type": "code",
      "source": [
        "# load preproccesed data\n",
        "train_preproc = TensorDataset(*torch.load('/content/drive/MyDrive/SU2-data/AlexNet_preproc_train.pth'))\n",
        "val_preproc = TensorDataset(*torch.load('/content/drive/MyDrive/SU2-data/AlexNet_preproc_val.pth'))\n",
        "\n",
        "# load data to DataLoader\n",
        "train_preproc_loader = DataLoader(train_preproc, batch_size=batch_size, shuffle=True)\n",
        "val_preproc_loader = DataLoader(val_preproc, batch_size=batch_size)"
      ],
      "metadata": {
        "id": "_4SfDqORNMso"
      },
      "execution_count": null,
      "outputs": []
    },
    {
      "cell_type": "code",
      "source": [
        "# set learning class\n",
        "sbs_alex = StepByStep(alex_top, multi_loss_fn, optimizer_top)\n",
        "sbs_alex.set_loaders(train_preproc_loader, val_preproc_loader)\n",
        "# train the model\n",
        "sbs_alex.train(n_epochs)\n",
        "sbs_alex.plot_losses()"
      ],
      "metadata": {
        "colab": {
          "base_uri": "https://localhost:8080/",
          "height": 349
        },
        "id": "B-KCLRPBKP3R",
        "outputId": "b73b155a-dc28-4444-9d48-86fb87657d59"
      },
      "execution_count": null,
      "outputs": [
        {
          "output_type": "stream",
          "name": "stdout",
          "text": [
            "epoch:\t[1/3]\n",
            "epoch:\t[2/3]\n",
            "epoch:\t[3/3]\n"
          ]
        },
        {
          "output_type": "display_data",
          "data": {
            "text/plain": [
              "<Figure size 720x288 with 1 Axes>"
            ],
            "image/png": "[encoded data removed]"
          },
          "metadata": {
            "needs_background": "light"
          }
        }
      ]
    },
    {
      "cell_type": "code",
      "source": [
        "# append top layer to the model\n",
        "AlexNet.classifier[6] = alex_top\n",
        "print(AlexNet.classifier)"
      ],
      "metadata": {
        "colab": {
          "base_uri": "https://localhost:8080/"
        },
        "id": "kaX5unsqNSk7",
        "outputId": "355f3126-b62c-43b6-bdcc-5e8c5a26dc0c"
      },
      "execution_count": null,
      "outputs": [
        {
          "output_type": "stream",
          "name": "stdout",
          "text": [
            "Sequential(\n",
            "  (0): Dropout(p=0.5, inplace=False)\n",
            "  (1): Linear(in_features=9216, out_features=4096, bias=True)\n",
            "  (2): ReLU(inplace=True)\n",
            "  (3): Dropout(p=0.5, inplace=False)\n",
            "  (4): Linear(in_features=4096, out_features=4096, bias=True)\n",
            "  (5): ReLU(inplace=True)\n",
            "  (6): Sequential(\n",
            "    (0): Linear(in_features=4096, out_features=7, bias=True)\n",
            "  )\n",
            ")\n"
          ]
        }
      ]
    },
    {
      "cell_type": "code",
      "source": [
        "results_alex = [correct_sbs(sbs_alex, x, y) for i, (x, y) in enumerate(val_preproc_loader)]\n",
        "results_alex = torch.stack(results_alex, axis=0)\n",
        "results_alex = results_alex.sum(axis=0)\n",
        "results_alex"
      ],
      "metadata": {
        "colab": {
          "base_uri": "https://localhost:8080/"
        },
        "id": "NxV3D9KsPGtL",
        "outputId": "b8df4403-3475-46c4-b764-9fec7e7842ae"
      },
      "execution_count": null,
      "outputs": [
        {
          "output_type": "execute_result",
          "data": {
            "text/plain": [
              "tensor([[  95,  122],\n",
              "        [ 715,  786],\n",
              "        [ 305,  351],\n",
              "        [1192, 1391],\n",
              "        [ 732,  797],\n",
              "        [ 322,  559],\n",
              "        [ 202,  394]])"
            ]
          },
          "metadata": {},
          "execution_count": 20
        }
      ]
    },
    {
      "cell_type": "code",
      "source": [
        "percentage_alex = float(sum(results_alex[:,0])/sum(results_alex[:,1]))\n",
        "print(\"succes rate for ResNet:\\t{:.2f} %\".format(percentage_alex*100))"
      ],
      "metadata": {
        "colab": {
          "base_uri": "https://localhost:8080/"
        },
        "id": "Wm5ID-fMl0fQ",
        "outputId": "28ba0fa6-baa4-47d3-a628-7f019d531c72"
      },
      "execution_count": null,
      "outputs": [
        {
          "output_type": "stream",
          "name": "stdout",
          "text": [
            "succes rate for ResNet:\t80.98 %\n"
          ]
        }
      ]
    },
    {
      "cell_type": "markdown",
      "source": [
        "## VGG transfer learning"
      ],
      "metadata": {
        "id": "t2WvfdDkmzOq"
      }
    },
    {
      "cell_type": "code",
      "source": [
        "# settings\n",
        "batch_size = 8\n",
        "n_epochs = 3\n",
        "learning_rate = 3e-4"
      ],
      "metadata": {
        "id": "tDyNrO3atb4L"
      },
      "execution_count": null,
      "outputs": []
    },
    {
      "cell_type": "code",
      "source": [
        "# freeze models\n",
        "freeze_model(VGG)"
      ],
      "metadata": {
        "id": "VaYnGEiKmzOv"
      },
      "execution_count": null,
      "outputs": []
    },
    {
      "cell_type": "code",
      "source": [
        "# define top layer\n",
        "vgg_top = nn.Sequential(nn.Linear(4096, N))\n",
        "multi_loss_fn = nn.CrossEntropyLoss(reduction='mean')\n",
        "optimizer_top = optim.Adam(vgg_top.parameters(), lr=learning_rate)"
      ],
      "metadata": {
        "id": "ndJDei7ymzOv"
      },
      "execution_count": null,
      "outputs": []
    },
    {
      "cell_type": "code",
      "source": [
        "# load preproccesed data\n",
        "train_preproc = TensorDataset(*torch.load('/content/drive/MyDrive/SU2-data/VGG19_bn_preproc_train.pth'))\n",
        "val_preproc = TensorDataset(*torch.load('/content/drive/MyDrive/SU2-data/VGG19_bn_preproc_val.pth'))\n",
        "\n",
        "# load data to DataLoader\n",
        "train_preproc_loader = DataLoader(train_preproc, batch_size=batch_size, shuffle=True)\n",
        "val_preproc_loader = DataLoader(val_preproc, batch_size=batch_size)"
      ],
      "metadata": {
        "id": "40oZs1KZmzOv"
      },
      "execution_count": null,
      "outputs": []
    },
    {
      "cell_type": "code",
      "source": [
        "# set learning class\n",
        "sbs_vgg = StepByStep(vgg_top, multi_loss_fn, optimizer_top)\n",
        "sbs_vgg.set_loaders(train_preproc_loader, val_preproc_loader)\n",
        "# train the model\n",
        "sbs_vgg.train(n_epochs)\n",
        "sbs_vgg.plot_losses()"
      ],
      "metadata": {
        "colab": {
          "base_uri": "https://localhost:8080/",
          "height": 349
        },
        "outputId": "caaf8f61-6e11-4b0b-ab61-819445233f1a",
        "id": "OVglmUkPmzOv"
      },
      "execution_count": null,
      "outputs": [
        {
          "output_type": "stream",
          "name": "stdout",
          "text": [
            "epoch:\t[1/3]\n",
            "epoch:\t[2/3]\n",
            "epoch:\t[3/3]\n"
          ]
        },
        {
          "output_type": "display_data",
          "data": {
            "text/plain": [
              "<Figure size 720x288 with 1 Axes>"
            ],
            "image/png": "[encoded data removed]"
          },
          "metadata": {
            "needs_background": "light"
          }
        }
      ]
    },
    {
      "cell_type": "code",
      "source": [
        "# append top layer to the model\n",
        "VGG.classifier[6] = vgg_top\n",
        "print(VGG.classifier)"
      ],
      "metadata": {
        "colab": {
          "base_uri": "https://localhost:8080/"
        },
        "outputId": "02ca4cbb-a30b-4b61-cccf-8aeadd472098",
        "id": "LjFt7cIZmzOw"
      },
      "execution_count": null,
      "outputs": [
        {
          "output_type": "stream",
          "name": "stdout",
          "text": [
            "Sequential(\n",
            "  (0): Linear(in_features=25088, out_features=4096, bias=True)\n",
            "  (1): ReLU(inplace=True)\n",
            "  (2): Dropout(p=0.5, inplace=False)\n",
            "  (3): Linear(in_features=4096, out_features=4096, bias=True)\n",
            "  (4): ReLU(inplace=True)\n",
            "  (5): Dropout(p=0.5, inplace=False)\n",
            "  (6): Sequential(\n",
            "    (0): Linear(in_features=4096, out_features=7, bias=True)\n",
            "  )\n",
            ")\n"
          ]
        }
      ]
    },
    {
      "cell_type": "code",
      "source": [
        "results_vgg = [correct_sbs(sbs_vgg, x, y) for i, (x, y) in enumerate(val_preproc_loader)]\n",
        "results_vgg = torch.stack(results_vgg, axis=0)\n",
        "results_vgg = results_vgg.sum(axis=0)\n",
        "results_vgg"
      ],
      "metadata": {
        "colab": {
          "base_uri": "https://localhost:8080/"
        },
        "outputId": "fd90c88d-0426-4bad-d4c8-a58153c08ee7",
        "id": "4N2PzoGzmzOw"
      },
      "execution_count": null,
      "outputs": [
        {
          "output_type": "execute_result",
          "data": {
            "text/plain": [
              "tensor([[ 105,  122],\n",
              "        [ 746,  786],\n",
              "        [ 323,  351],\n",
              "        [1277, 1391],\n",
              "        [ 751,  797],\n",
              "        [ 374,  559],\n",
              "        [ 242,  394]])"
            ]
          },
          "metadata": {},
          "execution_count": 28
        }
      ]
    },
    {
      "cell_type": "code",
      "source": [
        "percentage_vgg = float(sum(results_vgg[:,0])/sum(results_vgg[:,1]))\n",
        "print(\"succes rate for ResNet:\\t{:.2f} %\".format(percentage_vgg*100))"
      ],
      "metadata": {
        "colab": {
          "base_uri": "https://localhost:8080/"
        },
        "id": "0DBiyparlrGU",
        "outputId": "8fe0eeb9-24db-40c4-e307-9e535754c6a4"
      },
      "execution_count": null,
      "outputs": [
        {
          "output_type": "stream",
          "name": "stdout",
          "text": [
            "succes rate for ResNet:\t86.77 %\n"
          ]
        }
      ]
    },
    {
      "cell_type": "markdown",
      "source": [
        "## ResNet transfer learning"
      ],
      "metadata": {
        "id": "h8qXUIhKnxoJ"
      }
    },
    {
      "cell_type": "code",
      "source": [
        "# settings\n",
        "batch_size = 8\n",
        "n_epochs = 3\n",
        "learning_rate = 3e-4"
      ],
      "metadata": {
        "id": "OeyMIW-VuE7J"
      },
      "execution_count": null,
      "outputs": []
    },
    {
      "cell_type": "code",
      "source": [
        "# freeze models\n",
        "freeze_model(ResNet)"
      ],
      "metadata": {
        "id": "HFe5QHh4nxoK"
      },
      "execution_count": null,
      "outputs": []
    },
    {
      "cell_type": "code",
      "source": [
        "# define top layer\n",
        "res_top = nn.Sequential(nn.Linear(512, N))\n",
        "multi_loss_fn = nn.CrossEntropyLoss(reduction='mean')\n",
        "optimizer_top = optim.Adam(res_top.parameters(), lr=learning_rate)"
      ],
      "metadata": {
        "id": "CWD8ggGNnxoK"
      },
      "execution_count": null,
      "outputs": []
    },
    {
      "cell_type": "code",
      "source": [
        "# load preproccesed data\n",
        "train_preproc = TensorDataset(*torch.load('/content/drive/MyDrive/SU2-data/ResNet18_preproc_train.pth'))\n",
        "val_preproc = TensorDataset(*torch.load('/content/drive/MyDrive/SU2-data/ResNet18_preproc_val.pth'))\n",
        "\n",
        "# load data to DataLoader\n",
        "train_preproc_loader = DataLoader(train_preproc, batch_size=batch_size, shuffle=True)\n",
        "val_preproc_loader = DataLoader(val_preproc, batch_size=batch_size)"
      ],
      "metadata": {
        "id": "IZ_tv6V2nxoK"
      },
      "execution_count": null,
      "outputs": []
    },
    {
      "cell_type": "code",
      "source": [
        "# set learning class\n",
        "sbs_res = StepByStep(res_top, multi_loss_fn, optimizer_top)\n",
        "sbs_res.set_loaders(train_preproc_loader, val_preproc_loader)\n",
        "# train the model\n",
        "sbs_res.train(n_epochs)\n",
        "sbs_res.plot_losses()"
      ],
      "metadata": {
        "colab": {
          "base_uri": "https://localhost:8080/",
          "height": 349
        },
        "outputId": "87988332-81c7-4a82-9635-2094020651be",
        "id": "vRHgkyGLnxoK"
      },
      "execution_count": null,
      "outputs": [
        {
          "output_type": "stream",
          "name": "stdout",
          "text": [
            "epoch:\t[1/3]\n",
            "epoch:\t[2/3]\n",
            "epoch:\t[3/3]\n"
          ]
        },
        {
          "output_type": "display_data",
          "data": {
            "text/plain": [
              "<Figure size 720x288 with 1 Axes>"
            ],
            "image/png": "[encoded data removed]"
          },
          "metadata": {
            "needs_background": "light"
          }
        }
      ]
    },
    {
      "cell_type": "code",
      "source": [
        "# append top layer to the model\n",
        "ResNet.fc = res_top\n",
        "print(ResNet.fc)"
      ],
      "metadata": {
        "colab": {
          "base_uri": "https://localhost:8080/"
        },
        "outputId": "c421aa3a-ead5-491f-9686-f8bc246f246b",
        "id": "E1JevMHpnxoK"
      },
      "execution_count": null,
      "outputs": [
        {
          "output_type": "stream",
          "name": "stdout",
          "text": [
            "Sequential(\n",
            "  (0): Linear(in_features=512, out_features=7, bias=True)\n",
            ")\n"
          ]
        }
      ]
    },
    {
      "cell_type": "code",
      "source": [
        "results_res = [correct_sbs(sbs_res, x, y) for i, (x, y) in enumerate(val_preproc_loader)]\n",
        "results_res = torch.stack(results_res, axis=0)\n",
        "results_res = results_res.sum(axis=0)\n",
        "results_res"
      ],
      "metadata": {
        "colab": {
          "base_uri": "https://localhost:8080/"
        },
        "outputId": "f754b0bc-fea2-452d-c7de-aad420fd4a49",
        "id": "ewV82jUmnxoL"
      },
      "execution_count": null,
      "outputs": [
        {
          "output_type": "execute_result",
          "data": {
            "text/plain": [
              "tensor([[ 102,  122],\n",
              "        [ 737,  786],\n",
              "        [ 316,  351],\n",
              "        [1253, 1391],\n",
              "        [ 754,  797],\n",
              "        [ 368,  559],\n",
              "        [ 212,  394]])"
            ]
          },
          "metadata": {},
          "execution_count": 36
        }
      ]
    },
    {
      "cell_type": "code",
      "source": [
        "percentage_res = float(sum(results_res[:,0])/sum(results_res[:,1]))\n",
        "print(\"succes rate for ResNet:\\t{:.2f} %\".format(percentage_res*100))"
      ],
      "metadata": {
        "colab": {
          "base_uri": "https://localhost:8080/"
        },
        "id": "Q9gtuC9ulKOE",
        "outputId": "b3b5887c-dc75-4992-b832-49c1275d1465"
      },
      "execution_count": null,
      "outputs": [
        {
          "output_type": "stream",
          "name": "stdout",
          "text": [
            "succes rate for ResNet:\t85.05 %\n"
          ]
        }
      ]
    },
    {
      "cell_type": "markdown",
      "source": [
        "## DenseNet transfer learning"
      ],
      "metadata": {
        "id": "6CExUj4so5nP"
      }
    },
    {
      "cell_type": "code",
      "source": [
        "# settings\n",
        "batch_size = 8\n",
        "n_epochs = 3\n",
        "learning_rate = 3e-4"
      ],
      "metadata": {
        "id": "W8OUqi3uu8lR"
      },
      "execution_count": null,
      "outputs": []
    },
    {
      "cell_type": "code",
      "source": [
        "# freeze models\n",
        "freeze_model(DenseNet)"
      ],
      "metadata": {
        "id": "4ZC_o02qo5nV"
      },
      "execution_count": null,
      "outputs": []
    },
    {
      "cell_type": "code",
      "source": [
        "# define top layer\n",
        "dense_top = nn.Sequential(nn.Linear(1024, N))\n",
        "multi_loss_fn = nn.CrossEntropyLoss(reduction='mean')\n",
        "optimizer_top = optim.Adam(dense_top.parameters(), lr=learning_rate)"
      ],
      "metadata": {
        "id": "B9y0nmeTo5nV"
      },
      "execution_count": null,
      "outputs": []
    },
    {
      "cell_type": "code",
      "source": [
        "# load preproccesed data\n",
        "train_preproc = TensorDataset(*torch.load('/content/drive/MyDrive/SU2-data/DenseNet121_preproc_train.pth'))\n",
        "val_preproc = TensorDataset(*torch.load('/content/drive/MyDrive/SU2-data/DenseNet121_preproc_val.pth'))\n",
        "\n",
        "# load data to DataLoader\n",
        "train_preproc_loader = DataLoader(train_preproc, batch_size=batch_size, shuffle=True)\n",
        "val_preproc_loader = DataLoader(val_preproc, batch_size=batch_size)"
      ],
      "metadata": {
        "id": "2EN62B-Co5nV"
      },
      "execution_count": null,
      "outputs": []
    },
    {
      "cell_type": "code",
      "source": [
        "# set learning class\n",
        "sbs_dense = StepByStep(dense_top, multi_loss_fn, optimizer_top)\n",
        "sbs_dense.set_loaders(train_preproc_loader, val_preproc_loader)\n",
        "# train the model\n",
        "sbs_dense.train(n_epochs)\n",
        "sbs_dense.plot_losses()"
      ],
      "metadata": {
        "colab": {
          "base_uri": "https://localhost:8080/",
          "height": 349
        },
        "outputId": "a3fc3207-6061-4d1e-891a-68ecb1dc33f9",
        "id": "agT-cdMTo5nV"
      },
      "execution_count": null,
      "outputs": [
        {
          "output_type": "stream",
          "name": "stdout",
          "text": [
            "epoch:\t[1/3]\n",
            "epoch:\t[2/3]\n",
            "epoch:\t[3/3]\n"
          ]
        },
        {
          "output_type": "display_data",
          "data": {
            "text/plain": [
              "<Figure size 720x288 with 1 Axes>"
            ],
            "image/png": "[encoded data removed]"
          },
          "metadata": {
            "needs_background": "light"
          }
        }
      ]
    },
    {
      "cell_type": "code",
      "source": [
        "# append top layer to the model\n",
        "DenseNet.classifier = dense_top\n",
        "print(DenseNet.classifier)"
      ],
      "metadata": {
        "id": "Cg1Ao1udo5nV",
        "outputId": "35b234cc-ce45-413f-d28e-5460333e5079",
        "colab": {
          "base_uri": "https://localhost:8080/"
        }
      },
      "execution_count": null,
      "outputs": [
        {
          "output_type": "stream",
          "name": "stdout",
          "text": [
            "Sequential(\n",
            "  (0): Linear(in_features=1024, out_features=7, bias=True)\n",
            ")\n"
          ]
        }
      ]
    },
    {
      "cell_type": "code",
      "source": [
        "results_dense = [correct_sbs(sbs_dense, x, y) for i, (x, y) in enumerate(val_preproc_loader)]\n",
        "results_dense = torch.stack(results_dense, axis=0)\n",
        "results_dense = results_dense.sum(axis=0)\n",
        "results_dense"
      ],
      "metadata": {
        "id": "1KO6udl9o5nV",
        "outputId": "8185b275-085f-4b70-b1a0-0f93e9743cc5",
        "colab": {
          "base_uri": "https://localhost:8080/"
        }
      },
      "execution_count": null,
      "outputs": [
        {
          "output_type": "execute_result",
          "data": {
            "text/plain": [
              "tensor([[ 103,  122],\n",
              "        [ 748,  786],\n",
              "        [ 324,  351],\n",
              "        [1280, 1391],\n",
              "        [ 760,  797],\n",
              "        [ 369,  559],\n",
              "        [ 236,  394]])"
            ]
          },
          "metadata": {},
          "execution_count": 44
        }
      ]
    },
    {
      "cell_type": "code",
      "source": [
        "percentage_dense = float(sum(results_dense[:,0])/sum(results_dense[:,1]))\n",
        "print(\"succes rate for DenseNet:\\t{:.2f} %\".format(percentage_dense*100))"
      ],
      "metadata": {
        "colab": {
          "base_uri": "https://localhost:8080/"
        },
        "id": "laaeq-zWjqj8",
        "outputId": "1e17ef71-28ce-40d8-bc3a-fc7536d769ae"
      },
      "execution_count": null,
      "outputs": [
        {
          "output_type": "stream",
          "name": "stdout",
          "text": [
            "succes rate for DenseNet:\t86.82 %\n"
          ]
        }
      ]
    },
    {
      "cell_type": "markdown",
      "source": [
        "## Recall of transfer learning"
      ],
      "metadata": {
        "id": "qVhPmrIKv2dG"
      }
    },
    {
      "cell_type": "markdown",
      "source": [
        "Succes rate for each model:"
      ],
      "metadata": {
        "id": "MhZm2WANw007"
      }
    },
    {
      "cell_type": "code",
      "source": [
        "print(\"AlexNet:\\t{:.2f} %\".format(percentage_alex*100))\n",
        "print(\"VGG:\\t\\t{:.2f} %\".format(percentage_vgg*100))\n",
        "print(\"ResNet:\\t\\t{:.2f} %\".format(percentage_res*100))\n",
        "print(\"AlexNet:\\t{:.2f} %\".format(percentage_dense*100))"
      ],
      "metadata": {
        "colab": {
          "base_uri": "https://localhost:8080/"
        },
        "id": "Pn7YVYK6v8sH",
        "outputId": "5bf9006c-b723-4f0d-ea91-6a7d7da62ec5"
      },
      "execution_count": null,
      "outputs": [
        {
          "output_type": "stream",
          "name": "stdout",
          "text": [
            "AlexNet:\t80.98 %\n",
            "VGG:\t\t86.77 %\n",
            "ResNet:\t\t85.05 %\n",
            "AlexNet:\t86.82 %\n"
          ]
        }
      ]
    },
    {
      "cell_type": "markdown",
      "source": [
        "# Model combination"
      ],
      "metadata": {
        "id": "_O9LZxMyws6T"
      }
    },
    {
      "cell_type": "code",
      "source": [
        "# required means and stds\n",
        "normalizer = Normalize(mean=[0.485, 0.456, 0.406],\n",
        "                       std=[0.229, 0.224, 0.225])\n",
        "# data modification before validation\n",
        "composer = Compose([Resize(256),\n",
        "                    CenterCrop(224),\n",
        "                    ToTensor(),\n",
        "                    normalizer])\n",
        "val_data = ImageFolder(root='/content/drive/MyDrive/SU2-data/test', transform=composer)\n",
        "val_loader = DataLoader(val_data, batch_size=16)"
      ],
      "metadata": {
        "id": "zJdnA10V1bK9"
      },
      "execution_count": null,
      "outputs": []
    },
    {
      "cell_type": "code",
      "source": [
        "# calculation of succes rate\n",
        "def calc_percentage(y_hat, y_true):\n",
        "  y_hat = np.array(y_hat)\n",
        "  y_true = np.array(y_true)\n",
        "  result = []\n",
        "  for c in range(N):\n",
        "        # how many ground truth items belong to class \"c\"\n",
        "        n_class = sum(y_true == c)\n",
        "        # how many true \"c\" items were classified as \"c\"\n",
        "        n_correct = sum(y_hat[y_true == c] == c)\n",
        "        result.append((n_correct, n_class))\n",
        "\n",
        "  percentage = sum(y_hat == y_true) / len(y_true)\n",
        "  return [result, percentage]"
      ],
      "metadata": {
        "id": "UYUOiVxvw9IH"
      },
      "execution_count": null,
      "outputs": []
    },
    {
      "cell_type": "code",
      "source": [
        "def combo(data):\n",
        "  y_hat = []      # predicted\n",
        "  y_true = []     # ground truth\n",
        "  # for each batch\n",
        "  for i, (x, y) in enumerate(data):\n",
        "    predicted_combo = []\n",
        "    # for each model\n",
        "    for model in models:\n",
        "      device = next(model.parameters()).device\n",
        "      model.eval()\n",
        "      yhat = model(x.to(device))\n",
        "      model.train()\n",
        "\n",
        "      # We get the size of the batch and the number of classes \n",
        "      _, n_dims = yhat.shape\n",
        "      # get the most probability class\n",
        "      _, predicted = torch.max(yhat, 1)\n",
        "      predicted_combo.append(predicted.numpy())\n",
        "\n",
        "    # now we have prediction from four models\n",
        "    # we choose final prediction by mode statistics\n",
        "    y_hat.extend(stats.mode(predicted_combo)[0][0])\n",
        "    y_true.extend(y.numpy())\n",
        "\n",
        "    print(\"state:\\t[{}/{}]\".format(i, len(data)))\n",
        "\n",
        "  return calc_percentage(y_hat, y_true)"
      ],
      "metadata": {
        "id": "2zeuP7OF0edP"
      },
      "execution_count": null,
      "outputs": []
    },
    {
      "cell_type": "code",
      "source": [
        "result, percetange = combo(val_loader)"
      ],
      "metadata": {
        "id": "otI2e--BXQs-"
      },
      "execution_count": null,
      "outputs": []
    },
    {
      "cell_type": "code",
      "source": [
        "\"\"\"df = pd.DataFrame(result,\n",
        "                  columns = [\"predicted\", \"ground truth\"],\n",
        "                  index = [\"bycicle\", \"boat\", \"bus\", \"car\", \"van\", \"motorcycle\", \"truck\"]\n",
        "                  )\n",
        "df[\"succes percentage\"] = round(df.iloc[:,0]/df.iloc[:,1]*10000)/100\n",
        "print(df)\"\"\""
      ],
      "metadata": {
        "id": "1BOW-EFRyRyZ"
      },
      "execution_count": null,
      "outputs": []
    },
    {
      "cell_type": "code",
      "source": [
        "print(\"succes rate:\\t{:.2f}\".format(percetange*100))"
      ],
      "metadata": {
        "id": "MevcQBGMyTOh",
        "outputId": "35ced512-2e20-4240-fc8b-17084dd3c17c",
        "colab": {
          "base_uri": "https://localhost:8080/"
        }
      },
      "execution_count": null,
      "outputs": [
        {
          "output_type": "stream",
          "name": "stdout",
          "text": [
            "succes rate:\t94.32\n"
          ]
        }
      ]
    },
    {
      "cell_type": "markdown",
      "source": [
        "**The final model composed from AlexNet, VGG, ResNet, DenseNet has above 90 % succes rate.**"
      ],
      "metadata": {
        "id": "wpa27xfn51mT"
      }
    }
  ]
}